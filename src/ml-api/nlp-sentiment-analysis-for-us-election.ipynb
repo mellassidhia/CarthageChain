{
 "cells": [
  {
   "cell_type": "code",
   "execution_count": 1,
   "metadata": {
    "_cell_guid": "b1076dfc-b9ad-4769-8c92-a6c4dae69d19",
    "_uuid": "8f2839f25d086af736a60e9eeb907d3b93b6e0e5",
    "execution": {
     "iopub.execute_input": "2024-05-28T08:43:26.237472Z",
     "iopub.status.busy": "2024-05-28T08:43:26.236725Z",
     "iopub.status.idle": "2024-05-28T08:43:27.926356Z",
     "shell.execute_reply": "2024-05-28T08:43:27.925206Z",
     "shell.execute_reply.started": "2024-05-28T08:43:26.237435Z"
    },
    "trusted": true
   },
   "outputs": [],
   "source": [
    "# This Python 3 environment comes with many helpful analytics libraries installed\n",
    "# It is defined by the kaggle/python Docker image: https://github.com/kaggle/docker-python\n",
    "# For example, here's several helpful packages to load\n",
    "\n",
    "import numpy as np # linear algebra\n",
    "import pandas as pd # data processing, CSV file I/O (e.g. pd.read_csv)\n",
    "\n",
    "# Input data files are available in the read-only \"../input/\" directory\n",
    "# For example, running this (by clicking run or pressing Shift+Enter) will list all files under the input directory\n",
    "\n",
    "import os\n",
    "for dirname, _, filenames in os.walk('/kaggle/input'):\n",
    "    for filename in filenames:\n",
    "        print(os.path.join(dirname, filename))\n",
    "\n",
    "# You can write up to 20GB to the current directory (/kaggle/working/) that gets preserved as output when you create a version using \"Save & Run All\" \n",
    "# You can also write temporary files to /kaggle/temp/, but they won't be saved outside of the current session"
   ]
  },
  {
   "cell_type": "markdown",
   "metadata": {},
   "source": [
    "* Importing necessary libraries\n",
    "* Loading datasets\n",
    "* Data preprocessing\n",
    "* Exploratory Data Analysis\n",
    "* Sentiment Analysis\n",
    "* Conclusion"
   ]
  },
  {
   "cell_type": "markdown",
   "metadata": {},
   "source": [
    "# Importing necessary libraries"
   ]
  },
  {
   "cell_type": "code",
   "execution_count": 2,
   "metadata": {
    "execution": {
     "iopub.execute_input": "2024-05-28T08:43:27.929091Z",
     "iopub.status.busy": "2024-05-28T08:43:27.928581Z",
     "iopub.status.idle": "2024-05-28T08:44:15.162103Z",
     "shell.execute_reply": "2024-05-28T08:44:15.160779Z",
     "shell.execute_reply.started": "2024-05-28T08:43:27.929058Z"
    },
    "trusted": true
   },
   "outputs": [
    {
     "name": "stdout",
     "output_type": "stream",
     "text": [
      "Requirement already satisfied: nltk in c:\\users\\malle\\anaconda3\\lib\\site-packages (3.9.1)\n",
      "Requirement already satisfied: click in c:\\users\\malle\\anaconda3\\lib\\site-packages (from nltk) (8.1.7)\n",
      "Requirement already satisfied: joblib in c:\\users\\malle\\anaconda3\\lib\\site-packages (from nltk) (1.4.2)\n",
      "Requirement already satisfied: regex>=2021.8.3 in c:\\users\\malle\\anaconda3\\lib\\site-packages (from nltk) (2024.9.11)\n",
      "Requirement already satisfied: tqdm in c:\\users\\malle\\anaconda3\\lib\\site-packages (from nltk) (4.66.5)\n",
      "Requirement already satisfied: colorama in c:\\users\\malle\\anaconda3\\lib\\site-packages (from click->nltk) (0.4.6)\n",
      "Requirement already satisfied: wordcloud in c:\\users\\malle\\anaconda3\\lib\\site-packages (1.9.4)\n",
      "Requirement already satisfied: numpy>=1.6.1 in c:\\users\\malle\\anaconda3\\lib\\site-packages (from wordcloud) (1.26.4)\n",
      "Requirement already satisfied: pillow in c:\\users\\malle\\anaconda3\\lib\\site-packages (from wordcloud) (10.4.0)\n",
      "Requirement already satisfied: matplotlib in c:\\users\\malle\\anaconda3\\lib\\site-packages (from wordcloud) (3.9.2)\n",
      "Requirement already satisfied: contourpy>=1.0.1 in c:\\users\\malle\\anaconda3\\lib\\site-packages (from matplotlib->wordcloud) (1.2.0)\n",
      "Requirement already satisfied: cycler>=0.10 in c:\\users\\malle\\anaconda3\\lib\\site-packages (from matplotlib->wordcloud) (0.11.0)\n",
      "Requirement already satisfied: fonttools>=4.22.0 in c:\\users\\malle\\anaconda3\\lib\\site-packages (from matplotlib->wordcloud) (4.51.0)\n",
      "Requirement already satisfied: kiwisolver>=1.3.1 in c:\\users\\malle\\anaconda3\\lib\\site-packages (from matplotlib->wordcloud) (1.4.4)\n",
      "Requirement already satisfied: packaging>=20.0 in c:\\users\\malle\\anaconda3\\lib\\site-packages (from matplotlib->wordcloud) (24.1)\n",
      "Requirement already satisfied: pyparsing>=2.3.1 in c:\\users\\malle\\anaconda3\\lib\\site-packages (from matplotlib->wordcloud) (3.1.2)\n",
      "Requirement already satisfied: python-dateutil>=2.7 in c:\\users\\malle\\anaconda3\\lib\\site-packages (from matplotlib->wordcloud) (2.9.0.post0)\n",
      "Requirement already satisfied: six>=1.5 in c:\\users\\malle\\anaconda3\\lib\\site-packages (from python-dateutil>=2.7->matplotlib->wordcloud) (1.16.0)\n",
      "Requirement already satisfied: textblob in c:\\users\\malle\\anaconda3\\lib\\site-packages (0.19.0)\n",
      "Requirement already satisfied: nltk>=3.9 in c:\\users\\malle\\anaconda3\\lib\\site-packages (from textblob) (3.9.1)\n",
      "Requirement already satisfied: click in c:\\users\\malle\\anaconda3\\lib\\site-packages (from nltk>=3.9->textblob) (8.1.7)\n",
      "Requirement already satisfied: joblib in c:\\users\\malle\\anaconda3\\lib\\site-packages (from nltk>=3.9->textblob) (1.4.2)\n",
      "Requirement already satisfied: regex>=2021.8.3 in c:\\users\\malle\\anaconda3\\lib\\site-packages (from nltk>=3.9->textblob) (2024.9.11)\n",
      "Requirement already satisfied: tqdm in c:\\users\\malle\\anaconda3\\lib\\site-packages (from nltk>=3.9->textblob) (4.66.5)\n",
      "Requirement already satisfied: colorama in c:\\users\\malle\\anaconda3\\lib\\site-packages (from click->nltk>=3.9->textblob) (0.4.6)\n"
     ]
    }
   ],
   "source": [
    "!pip install nltk\n",
    "!pip install wordcloud\n",
    "!pip install textblob"
   ]
  },
  {
   "cell_type": "code",
   "execution_count": 3,
   "metadata": {
    "execution": {
     "iopub.execute_input": "2024-05-28T08:45:29.955441Z",
     "iopub.status.busy": "2024-05-28T08:45:29.955042Z",
     "iopub.status.idle": "2024-05-28T08:45:29.962064Z",
     "shell.execute_reply": "2024-05-28T08:45:29.960792Z",
     "shell.execute_reply.started": "2024-05-28T08:45:29.955408Z"
    },
    "trusted": true
   },
   "outputs": [],
   "source": [
    "# Import Libraries \n",
    "import pandas as pd \n",
    "import numpy as np \n",
    "import matplotlib.pyplot as plt \n",
    "import plotly.express as px \n",
    "\n",
    "# Libraries for Sentiment Analysis \n",
    "import re \n",
    "import nltk \n",
    "from nltk.corpus import stopwords \n",
    "from nltk.corpus import wordnet \n",
    "from nltk.stem import WordNetLemmatizer \n",
    "from textblob import TextBlob \n",
    "from wordcloud import WordCloud \n",
    "\n",
    "# to avoid warnings \n",
    "import warnings \n",
    "warnings.filterwarnings('ignore') \n"
   ]
  },
  {
   "cell_type": "markdown",
   "metadata": {},
   "source": [
    "**TextBlob:** Used for tokenization as well as for finding the polarity and subjectivity of a text\n",
    "\n",
    "**Regular expression (re):** removes unnecessary symbols that do not provide any meaning such as @, comma, hashtags, *, etc.\n",
    "\n",
    "**Natural Language Toolkit (nltk):** removes stop words such as and, is, the, in, or, etc."
   ]
  },
  {
   "cell_type": "markdown",
   "metadata": {},
   "source": [
    "# Importing datasets"
   ]
  },
  {
   "cell_type": "code",
   "execution_count": 5,
   "metadata": {
    "execution": {
     "iopub.execute_input": "2024-05-28T08:45:36.415962Z",
     "iopub.status.busy": "2024-05-28T08:45:36.415549Z",
     "iopub.status.idle": "2024-05-28T08:45:56.254856Z",
     "shell.execute_reply": "2024-05-28T08:45:56.253519Z",
     "shell.execute_reply.started": "2024-05-28T08:45:36.415928Z"
    },
    "trusted": true
   },
   "outputs": [
    {
     "name": "stdout",
     "output_type": "stream",
     "text": [
      "            created_at      tweet_id  \\\n",
      "0  2020-10-15 00:00:01  1.316529e+18   \n",
      "1  2020-10-15 00:00:01  1.316529e+18   \n",
      "2  2020-10-15 00:00:02  1.316529e+18   \n",
      "\n",
      "                                               tweet  likes  retweet_count  \\\n",
      "0  #Elecciones2020 | En #Florida: #JoeBiden dice ...    0.0            0.0   \n",
      "1  Usa 2020, Trump contro Facebook e Twitter: cop...   26.0            9.0   \n",
      "2  #Trump: As a student I used to hear for years,...    2.0            1.0   \n",
      "\n",
      "             source      user_id           user_name user_screen_name  \\\n",
      "0         TweetDeck  360666534.0  El Sol Latino News  elsollatinonews   \n",
      "1  Social Mediaset   331617619.0             Tgcom24  MediasetTgcom24   \n",
      "2   Twitter Web App    8436472.0              snarke           snarke   \n",
      "\n",
      "                                    user_description  ...  \\\n",
      "0  🌐 Noticias de interés para latinos de la costa...  ...   \n",
      "1  Profilo ufficiale di Tgcom24: tutte le notizie...  ...   \n",
      "2  Will mock for food! Freelance writer, blogger,...  ...   \n",
      "\n",
      "  user_followers_count                 user_location        lat        long  \\\n",
      "0               1860.0  Philadelphia, PA / Miami, FL  25.774270  -80.193660   \n",
      "1            1067661.0                           NaN        NaN         NaN   \n",
      "2               1185.0                      Portland  45.520247 -122.674195   \n",
      "\n",
      "       city                   country      continent    state state_code  \\\n",
      "0       NaN  United States of America  North America  Florida         FL   \n",
      "1       NaN                       NaN            NaN      NaN        NaN   \n",
      "2  Portland  United States of America  North America   Oregon         OR   \n",
      "\n",
      "                    collected_at  \n",
      "0            2020-10-21 00:00:00  \n",
      "1  2020-10-21 00:00:00.373216530  \n",
      "2  2020-10-21 00:00:00.746433060  \n",
      "\n",
      "[3 rows x 21 columns]\n"
     ]
    }
   ],
   "source": [
    "# reading datasets \n",
    "trump = pd.read_csv(\"./hashtag_donaldtrump.csv\", lineterminator='\\n') \n",
    "print(trump.head(3)) \n"
   ]
  },
  {
   "cell_type": "code",
   "execution_count": 6,
   "metadata": {
    "execution": {
     "iopub.execute_input": "2024-05-28T08:45:59.200817Z",
     "iopub.status.busy": "2024-05-28T08:45:59.200386Z",
     "iopub.status.idle": "2024-05-28T08:45:59.206867Z",
     "shell.execute_reply": "2024-05-28T08:45:59.205799Z",
     "shell.execute_reply.started": "2024-05-28T08:45:59.200785Z"
    },
    "trusted": true
   },
   "outputs": [
    {
     "name": "stdout",
     "output_type": "stream",
     "text": [
      "Index(['created_at', 'tweet_id', 'tweet', 'likes', 'retweet_count', 'source',\n",
      "       'user_id', 'user_name', 'user_screen_name', 'user_description',\n",
      "       'user_join_date', 'user_followers_count', 'user_location', 'lat',\n",
      "       'long', 'city', 'country', 'continent', 'state', 'state_code',\n",
      "       'collected_at'],\n",
      "      dtype='object')\n"
     ]
    }
   ],
   "source": [
    "# Display all the columns in the DataFrame \n",
    "print(trump.columns)\n"
   ]
  },
  {
   "cell_type": "code",
   "execution_count": 7,
   "metadata": {
    "execution": {
     "iopub.execute_input": "2024-05-28T08:46:01.805495Z",
     "iopub.status.busy": "2024-05-28T08:46:01.805091Z",
     "iopub.status.idle": "2024-05-28T08:46:16.166452Z",
     "shell.execute_reply": "2024-05-28T08:46:16.165379Z",
     "shell.execute_reply.started": "2024-05-28T08:46:01.805465Z"
    },
    "trusted": true
   },
   "outputs": [
    {
     "name": "stdout",
     "output_type": "stream",
     "text": [
      "            created_at      tweet_id  \\\n",
      "0  2020-10-15 00:00:01  1.316529e+18   \n",
      "1  2020-10-15 00:00:18  1.316529e+18   \n",
      "\n",
      "                                               tweet  likes  retweet_count  \\\n",
      "0  #Elecciones2020 | En #Florida: #JoeBiden dice ...    0.0            0.0   \n",
      "1  #HunterBiden #HunterBidenEmails #JoeBiden #Joe...    0.0            0.0   \n",
      "\n",
      "             source      user_id           user_name user_screen_name  \\\n",
      "0         TweetDeck  360666534.0  El Sol Latino News  elsollatinonews   \n",
      "1  Twitter for iPad  809904438.0         Cheri A. 🇺🇸     Biloximeemaw   \n",
      "\n",
      "                                    user_description  ...  \\\n",
      "0  🌐 Noticias de interés para latinos de la costa...  ...   \n",
      "1  Locked and loaded Meemaw. Love God, my family ...  ...   \n",
      "\n",
      "  user_followers_count                 user_location       lat      long  \\\n",
      "0               1860.0  Philadelphia, PA / Miami, FL  25.77427 -80.19366   \n",
      "1               6628.0                           NaN       NaN       NaN   \n",
      "\n",
      "   city                   country      continent    state state_code  \\\n",
      "0   NaN  United States of America  North America  Florida         FL   \n",
      "1   NaN                       NaN            NaN      NaN        NaN   \n",
      "\n",
      "                    collected_at  \n",
      "0            2020-10-21 00:00:00  \n",
      "1  2020-10-21 00:00:00.517827283  \n",
      "\n",
      "[2 rows x 21 columns]\n"
     ]
    }
   ],
   "source": [
    "biden = pd.read_csv(\"./hashtag_joebiden.csv\", lineterminator='\\n') \n",
    "print(biden.head(2)) \n"
   ]
  },
  {
   "cell_type": "code",
   "execution_count": 8,
   "metadata": {
    "execution": {
     "iopub.execute_input": "2024-05-28T08:46:29.20171Z",
     "iopub.status.busy": "2024-05-28T08:46:29.200999Z",
     "iopub.status.idle": "2024-05-28T08:46:29.207624Z",
     "shell.execute_reply": "2024-05-28T08:46:29.20637Z",
     "shell.execute_reply.started": "2024-05-28T08:46:29.201675Z"
    },
    "trusted": true
   },
   "outputs": [
    {
     "name": "stdout",
     "output_type": "stream",
     "text": [
      "(970919, 21)\n",
      "(776886, 21)\n"
     ]
    }
   ],
   "source": [
    "print(trump.shape) \n",
    "print(biden.shape)"
   ]
  },
  {
   "cell_type": "code",
   "execution_count": 9,
   "metadata": {
    "execution": {
     "iopub.execute_input": "2024-05-28T08:46:24.617526Z",
     "iopub.status.busy": "2024-05-28T08:46:24.617112Z",
     "iopub.status.idle": "2024-05-28T08:46:25.943624Z",
     "shell.execute_reply": "2024-05-28T08:46:25.942566Z",
     "shell.execute_reply.started": "2024-05-28T08:46:24.617495Z"
    },
    "trusted": true
   },
   "outputs": [
    {
     "name": "stdout",
     "output_type": "stream",
     "text": [
      "<class 'pandas.core.frame.DataFrame'>\n",
      "RangeIndex: 970919 entries, 0 to 970918\n",
      "Data columns (total 21 columns):\n",
      " #   Column                Non-Null Count   Dtype  \n",
      "---  ------                --------------   -----  \n",
      " 0   created_at            970919 non-null  object \n",
      " 1   tweet_id              970919 non-null  float64\n",
      " 2   tweet                 970919 non-null  object \n",
      " 3   likes                 970919 non-null  float64\n",
      " 4   retweet_count         970919 non-null  float64\n",
      " 5   source                970043 non-null  object \n",
      " 6   user_id               970919 non-null  float64\n",
      " 7   user_name             970897 non-null  object \n",
      " 8   user_screen_name      970919 non-null  object \n",
      " 9   user_description      869651 non-null  object \n",
      " 10  user_join_date        970919 non-null  object \n",
      " 11  user_followers_count  970919 non-null  float64\n",
      " 12  user_location         675957 non-null  object \n",
      " 13  lat                   445719 non-null  float64\n",
      " 14  long                  445719 non-null  float64\n",
      " 15  city                  227187 non-null  object \n",
      " 16  country               442748 non-null  object \n",
      " 17  continent             442765 non-null  object \n",
      " 18  state                 320620 non-null  object \n",
      " 19  state_code            300425 non-null  object \n",
      " 20  collected_at          970919 non-null  object \n",
      "dtypes: float64(7), object(14)\n",
      "memory usage: 155.6+ MB\n"
     ]
    }
   ],
   "source": [
    "# Getting trump dataset information \n",
    "trump.info() \n"
   ]
  },
  {
   "cell_type": "code",
   "execution_count": 10,
   "metadata": {
    "execution": {
     "iopub.execute_input": "2024-05-28T08:46:32.545856Z",
     "iopub.status.busy": "2024-05-28T08:46:32.545456Z",
     "iopub.status.idle": "2024-05-28T08:46:33.56208Z",
     "shell.execute_reply": "2024-05-28T08:46:33.560949Z",
     "shell.execute_reply.started": "2024-05-28T08:46:32.545825Z"
    },
    "trusted": true
   },
   "outputs": [
    {
     "name": "stdout",
     "output_type": "stream",
     "text": [
      "<class 'pandas.core.frame.DataFrame'>\n",
      "RangeIndex: 776886 entries, 0 to 776885\n",
      "Data columns (total 21 columns):\n",
      " #   Column                Non-Null Count   Dtype  \n",
      "---  ------                --------------   -----  \n",
      " 0   created_at            776886 non-null  object \n",
      " 1   tweet_id              776886 non-null  float64\n",
      " 2   tweet                 776886 non-null  object \n",
      " 3   likes                 776886 non-null  float64\n",
      " 4   retweet_count         776886 non-null  float64\n",
      " 5   source                776173 non-null  object \n",
      " 6   user_id               776886 non-null  float64\n",
      " 7   user_name             776861 non-null  object \n",
      " 8   user_screen_name      776886 non-null  object \n",
      " 9   user_description      694877 non-null  object \n",
      " 10  user_join_date        776886 non-null  object \n",
      " 11  user_followers_count  776886 non-null  float64\n",
      " 12  user_location         543092 non-null  object \n",
      " 13  lat                   355293 non-null  float64\n",
      " 14  long                  355293 non-null  float64\n",
      " 15  city                  186872 non-null  object \n",
      " 16  country               353779 non-null  object \n",
      " 17  continent             353797 non-null  object \n",
      " 18  state                 260195 non-null  object \n",
      " 19  state_code            244609 non-null  object \n",
      " 20  collected_at          776886 non-null  object \n",
      "dtypes: float64(7), object(14)\n",
      "memory usage: 124.5+ MB\n"
     ]
    }
   ],
   "source": [
    "# Getting biden dataset information \n",
    "biden.info() \n"
   ]
  },
  {
   "cell_type": "markdown",
   "metadata": {},
   "source": [
    "# Data Preprocessing"
   ]
  },
  {
   "cell_type": "code",
   "execution_count": 11,
   "metadata": {
    "execution": {
     "iopub.execute_input": "2024-05-28T08:46:36.280715Z",
     "iopub.status.busy": "2024-05-28T08:46:36.279807Z",
     "iopub.status.idle": "2024-05-28T08:46:36.798686Z",
     "shell.execute_reply": "2024-05-28T08:46:36.797539Z",
     "shell.execute_reply.started": "2024-05-28T08:46:36.28068Z"
    },
    "trusted": true
   },
   "outputs": [
    {
     "name": "stdout",
     "output_type": "stream",
     "text": [
      "Final Data Shape : (1747805, 22)\n",
      "\n",
      "First 2 rows:\n",
      "            created_at      tweet_id  \\\n",
      "0  2020-10-15 00:00:01  1.316529e+18   \n",
      "1  2020-10-15 00:00:01  1.316529e+18   \n",
      "2  2020-10-15 00:00:02  1.316529e+18   \n",
      "\n",
      "                                               tweet  likes  retweet_count  \\\n",
      "0  #Elecciones2020 | En #Florida: #JoeBiden dice ...    0.0            0.0   \n",
      "1  Usa 2020, Trump contro Facebook e Twitter: cop...   26.0            9.0   \n",
      "2  #Trump: As a student I used to hear for years,...    2.0            1.0   \n",
      "\n",
      "             source      user_id           user_name user_screen_name  \\\n",
      "0         TweetDeck  360666534.0  El Sol Latino News  elsollatinonews   \n",
      "1  Social Mediaset   331617619.0             Tgcom24  MediasetTgcom24   \n",
      "2   Twitter Web App    8436472.0              snarke           snarke   \n",
      "\n",
      "                                    user_description  ...  \\\n",
      "0  🌐 Noticias de interés para latinos de la costa...  ...   \n",
      "1  Profilo ufficiale di Tgcom24: tutte le notizie...  ...   \n",
      "2  Will mock for food! Freelance writer, blogger,...  ...   \n",
      "\n",
      "                  user_location        lat        long      city  \\\n",
      "0  Philadelphia, PA / Miami, FL  25.774270  -80.193660       NaN   \n",
      "1                           NaN        NaN         NaN       NaN   \n",
      "2                      Portland  45.520247 -122.674195  Portland   \n",
      "\n",
      "                    country      continent    state state_code  \\\n",
      "0  United States of America  North America  Florida         FL   \n",
      "1                       NaN            NaN      NaN        NaN   \n",
      "2  United States of America  North America   Oregon         OR   \n",
      "\n",
      "                    collected_at candidate  \n",
      "0            2020-10-21 00:00:00     trump  \n",
      "1  2020-10-21 00:00:00.373216530     trump  \n",
      "2  2020-10-21 00:00:00.746433060     trump  \n",
      "\n",
      "[3 rows x 22 columns]\n"
     ]
    }
   ],
   "source": [
    "# creating a new column 'candidate' todifferentiate \n",
    "# between tweets of Trump and Biden upon concatination \n",
    "trump['candidate'] = 'trump'\n",
    "\n",
    "# biden dataframe \n",
    "biden['candidate'] = 'biden'\n",
    "\n",
    "# combining the dataframes \n",
    "data = pd.concat([trump, biden]) \n",
    "\n",
    "# FInal data shape \n",
    "print('Final Data Shape :', data.shape) \n",
    "\n",
    "# View the first 2 rows \n",
    "print(\"\\nFirst 2 rows:\") \n",
    "print(data.head(3)) \n"
   ]
  },
  {
   "cell_type": "markdown",
   "metadata": {},
   "source": [
    "# Data Cleaning:"
   ]
  },
  {
   "cell_type": "code",
   "execution_count": 12,
   "metadata": {
    "execution": {
     "iopub.execute_input": "2024-05-28T08:46:43.233601Z",
     "iopub.status.busy": "2024-05-28T08:46:43.232935Z",
     "iopub.status.idle": "2024-05-28T08:46:45.973031Z",
     "shell.execute_reply": "2024-05-28T08:46:45.971825Z",
     "shell.execute_reply.started": "2024-05-28T08:46:43.233568Z"
    },
    "trusted": true
   },
   "outputs": [],
   "source": [
    "# dropping null values if they exist \n",
    "data.dropna(inplace=True) \n"
   ]
  },
  {
   "cell_type": "code",
   "execution_count": 13,
   "metadata": {
    "execution": {
     "iopub.execute_input": "2024-05-28T08:46:47.395748Z",
     "iopub.status.busy": "2024-05-28T08:46:47.394832Z",
     "iopub.status.idle": "2024-05-28T08:46:47.464692Z",
     "shell.execute_reply": "2024-05-28T08:46:47.463503Z",
     "shell.execute_reply.started": "2024-05-28T08:46:47.395711Z"
    },
    "trusted": true
   },
   "outputs": [
    {
     "data": {
      "text/plain": [
       "country\n",
       "United States of America    182382\n",
       "United Kingdom               31869\n",
       "India                        20931\n",
       "France                       19996\n",
       "Germany                      18534\n",
       "Canada                       16250\n",
       "The Netherlands               8491\n",
       "Australia                     8330\n",
       "Spain                         5254\n",
       "Brazil                        4211\n",
       "Pakistan                      3704\n",
       "Italy                         2966\n",
       "Ireland                       2587\n",
       "Bangladesh                    2036\n",
       "Mexico                        1972\n",
       "Belgium                       1962\n",
       "Nigeria                       1848\n",
       "South Africa                  1648\n",
       "United Arab Emirates          1521\n",
       "Switzerland                   1494\n",
       "Peru                          1031\n",
       "Lebanon                       1002\n",
       "Argentina                      872\n",
       "Ecuador                        824\n",
       "Colombia                       565\n",
       "Honduras                       508\n",
       "Venezuela                      431\n",
       "New Zealand                    384\n",
       "Poland                         340\n",
       "Uruguay                        237\n",
       "Lithuania                      198\n",
       "Bolivia                        194\n",
       "El Salvador                    171\n",
       "Oman                           105\n",
       "Philippines                     74\n",
       "Trinidad and Tobago             65\n",
       "Papua New Guinea                60\n",
       "Kuwait                          22\n",
       "Sudan                           21\n",
       "Burkina Faso                    20\n",
       "Syria                           19\n",
       "Slovakia                        19\n",
       "Suriname                        19\n",
       "Côte d'Ivoire                   16\n",
       "Guatemala                       16\n",
       "Laos                             8\n",
       "Libya                            5\n",
       "South Sudan                      5\n",
       "Guyana                           4\n",
       "Somalia                          2\n",
       "Cameroon                         1\n",
       "Name: count, dtype: int64"
      ]
     },
     "execution_count": 13,
     "metadata": {},
     "output_type": "execute_result"
    }
   ],
   "source": [
    "data['country'].value_counts()\n"
   ]
  },
  {
   "cell_type": "markdown",
   "metadata": {},
   "source": [
    "An important thing to note while exploring the data is that “United States of America” and “US” in the country column are treated as different nations in the dataset which is a major problem. Therefore, we can assign a common term “US” to treat it as one country."
   ]
  },
  {
   "cell_type": "code",
   "execution_count": 14,
   "metadata": {
    "execution": {
     "iopub.execute_input": "2024-05-28T08:46:51.497947Z",
     "iopub.status.busy": "2024-05-28T08:46:51.496988Z",
     "iopub.status.idle": "2024-05-28T08:46:51.594415Z",
     "shell.execute_reply": "2024-05-28T08:46:51.593417Z",
     "shell.execute_reply.started": "2024-05-28T08:46:51.497912Z"
    },
    "trusted": true
   },
   "outputs": [],
   "source": [
    "data['country'] = data['country'].replace({'United States of America': \"US\",'United States': \"US\"}) \n"
   ]
  },
  {
   "cell_type": "markdown",
   "metadata": {},
   "source": [
    "# Exploratory Data Analysis"
   ]
  },
  {
   "cell_type": "code",
   "execution_count": 15,
   "metadata": {
    "execution": {
     "iopub.execute_input": "2024-05-28T08:46:56.947369Z",
     "iopub.status.busy": "2024-05-28T08:46:56.946356Z",
     "iopub.status.idle": "2024-05-28T08:46:59.667131Z",
     "shell.execute_reply": "2024-05-28T08:46:59.666089Z",
     "shell.execute_reply.started": "2024-05-28T08:46:56.947324Z"
    },
    "trusted": true
   },
   "outputs": [
    {
     "data": {
      "application/vnd.plotly.v1+json": {
       "config": {
        "plotlyServerURL": "https://plot.ly"
       },
       "data": [
        {
         "alignmentgroup": "True",
         "hovertemplate": "Candidates=%{x}<br>Number of Tweets=%{y}<extra></extra>",
         "legendgroup": "biden",
         "marker": {
          "color": "#00cc96",
          "pattern": {
           "shape": ""
          }
         },
         "name": "biden",
         "offsetgroup": "biden",
         "orientation": "v",
         "showlegend": true,
         "textposition": "auto",
         "type": "bar",
         "x": [
          "biden"
         ],
         "xaxis": "x",
         "y": [
          155948
         ],
         "yaxis": "y"
        },
        {
         "alignmentgroup": "True",
         "hovertemplate": "Candidates=%{x}<br>Number of Tweets=%{y}<extra></extra>",
         "legendgroup": "trump",
         "marker": {
          "color": "#ab63fa",
          "pattern": {
           "shape": ""
          }
         },
         "name": "trump",
         "offsetgroup": "trump",
         "orientation": "v",
         "showlegend": true,
         "textposition": "auto",
         "type": "bar",
         "x": [
          "trump"
         ],
         "xaxis": "x",
         "y": [
          189276
         ],
         "yaxis": "y"
        }
       ],
       "layout": {
        "barmode": "relative",
        "legend": {
         "title": {
          "text": "Candidates"
         },
         "tracegroupgap": 0
        },
        "template": {
         "data": {
          "bar": [
           {
            "error_x": {
             "color": "#2a3f5f"
            },
            "error_y": {
             "color": "#2a3f5f"
            },
            "marker": {
             "line": {
              "color": "#E5ECF6",
              "width": 0.5
             },
             "pattern": {
              "fillmode": "overlay",
              "size": 10,
              "solidity": 0.2
             }
            },
            "type": "bar"
           }
          ],
          "barpolar": [
           {
            "marker": {
             "line": {
              "color": "#E5ECF6",
              "width": 0.5
             },
             "pattern": {
              "fillmode": "overlay",
              "size": 10,
              "solidity": 0.2
             }
            },
            "type": "barpolar"
           }
          ],
          "carpet": [
           {
            "aaxis": {
             "endlinecolor": "#2a3f5f",
             "gridcolor": "white",
             "linecolor": "white",
             "minorgridcolor": "white",
             "startlinecolor": "#2a3f5f"
            },
            "baxis": {
             "endlinecolor": "#2a3f5f",
             "gridcolor": "white",
             "linecolor": "white",
             "minorgridcolor": "white",
             "startlinecolor": "#2a3f5f"
            },
            "type": "carpet"
           }
          ],
          "choropleth": [
           {
            "colorbar": {
             "outlinewidth": 0,
             "ticks": ""
            },
            "type": "choropleth"
           }
          ],
          "contour": [
           {
            "colorbar": {
             "outlinewidth": 0,
             "ticks": ""
            },
            "colorscale": [
             [
              0,
              "#0d0887"
             ],
             [
              0.1111111111111111,
              "#46039f"
             ],
             [
              0.2222222222222222,
              "#7201a8"
             ],
             [
              0.3333333333333333,
              "#9c179e"
             ],
             [
              0.4444444444444444,
              "#bd3786"
             ],
             [
              0.5555555555555556,
              "#d8576b"
             ],
             [
              0.6666666666666666,
              "#ed7953"
             ],
             [
              0.7777777777777778,
              "#fb9f3a"
             ],
             [
              0.8888888888888888,
              "#fdca26"
             ],
             [
              1,
              "#f0f921"
             ]
            ],
            "type": "contour"
           }
          ],
          "contourcarpet": [
           {
            "colorbar": {
             "outlinewidth": 0,
             "ticks": ""
            },
            "type": "contourcarpet"
           }
          ],
          "heatmap": [
           {
            "colorbar": {
             "outlinewidth": 0,
             "ticks": ""
            },
            "colorscale": [
             [
              0,
              "#0d0887"
             ],
             [
              0.1111111111111111,
              "#46039f"
             ],
             [
              0.2222222222222222,
              "#7201a8"
             ],
             [
              0.3333333333333333,
              "#9c179e"
             ],
             [
              0.4444444444444444,
              "#bd3786"
             ],
             [
              0.5555555555555556,
              "#d8576b"
             ],
             [
              0.6666666666666666,
              "#ed7953"
             ],
             [
              0.7777777777777778,
              "#fb9f3a"
             ],
             [
              0.8888888888888888,
              "#fdca26"
             ],
             [
              1,
              "#f0f921"
             ]
            ],
            "type": "heatmap"
           }
          ],
          "heatmapgl": [
           {
            "colorbar": {
             "outlinewidth": 0,
             "ticks": ""
            },
            "colorscale": [
             [
              0,
              "#0d0887"
             ],
             [
              0.1111111111111111,
              "#46039f"
             ],
             [
              0.2222222222222222,
              "#7201a8"
             ],
             [
              0.3333333333333333,
              "#9c179e"
             ],
             [
              0.4444444444444444,
              "#bd3786"
             ],
             [
              0.5555555555555556,
              "#d8576b"
             ],
             [
              0.6666666666666666,
              "#ed7953"
             ],
             [
              0.7777777777777778,
              "#fb9f3a"
             ],
             [
              0.8888888888888888,
              "#fdca26"
             ],
             [
              1,
              "#f0f921"
             ]
            ],
            "type": "heatmapgl"
           }
          ],
          "histogram": [
           {
            "marker": {
             "pattern": {
              "fillmode": "overlay",
              "size": 10,
              "solidity": 0.2
             }
            },
            "type": "histogram"
           }
          ],
          "histogram2d": [
           {
            "colorbar": {
             "outlinewidth": 0,
             "ticks": ""
            },
            "colorscale": [
             [
              0,
              "#0d0887"
             ],
             [
              0.1111111111111111,
              "#46039f"
             ],
             [
              0.2222222222222222,
              "#7201a8"
             ],
             [
              0.3333333333333333,
              "#9c179e"
             ],
             [
              0.4444444444444444,
              "#bd3786"
             ],
             [
              0.5555555555555556,
              "#d8576b"
             ],
             [
              0.6666666666666666,
              "#ed7953"
             ],
             [
              0.7777777777777778,
              "#fb9f3a"
             ],
             [
              0.8888888888888888,
              "#fdca26"
             ],
             [
              1,
              "#f0f921"
             ]
            ],
            "type": "histogram2d"
           }
          ],
          "histogram2dcontour": [
           {
            "colorbar": {
             "outlinewidth": 0,
             "ticks": ""
            },
            "colorscale": [
             [
              0,
              "#0d0887"
             ],
             [
              0.1111111111111111,
              "#46039f"
             ],
             [
              0.2222222222222222,
              "#7201a8"
             ],
             [
              0.3333333333333333,
              "#9c179e"
             ],
             [
              0.4444444444444444,
              "#bd3786"
             ],
             [
              0.5555555555555556,
              "#d8576b"
             ],
             [
              0.6666666666666666,
              "#ed7953"
             ],
             [
              0.7777777777777778,
              "#fb9f3a"
             ],
             [
              0.8888888888888888,
              "#fdca26"
             ],
             [
              1,
              "#f0f921"
             ]
            ],
            "type": "histogram2dcontour"
           }
          ],
          "mesh3d": [
           {
            "colorbar": {
             "outlinewidth": 0,
             "ticks": ""
            },
            "type": "mesh3d"
           }
          ],
          "parcoords": [
           {
            "line": {
             "colorbar": {
              "outlinewidth": 0,
              "ticks": ""
             }
            },
            "type": "parcoords"
           }
          ],
          "pie": [
           {
            "automargin": true,
            "type": "pie"
           }
          ],
          "scatter": [
           {
            "fillpattern": {
             "fillmode": "overlay",
             "size": 10,
             "solidity": 0.2
            },
            "type": "scatter"
           }
          ],
          "scatter3d": [
           {
            "line": {
             "colorbar": {
              "outlinewidth": 0,
              "ticks": ""
             }
            },
            "marker": {
             "colorbar": {
              "outlinewidth": 0,
              "ticks": ""
             }
            },
            "type": "scatter3d"
           }
          ],
          "scattercarpet": [
           {
            "marker": {
             "colorbar": {
              "outlinewidth": 0,
              "ticks": ""
             }
            },
            "type": "scattercarpet"
           }
          ],
          "scattergeo": [
           {
            "marker": {
             "colorbar": {
              "outlinewidth": 0,
              "ticks": ""
             }
            },
            "type": "scattergeo"
           }
          ],
          "scattergl": [
           {
            "marker": {
             "colorbar": {
              "outlinewidth": 0,
              "ticks": ""
             }
            },
            "type": "scattergl"
           }
          ],
          "scattermapbox": [
           {
            "marker": {
             "colorbar": {
              "outlinewidth": 0,
              "ticks": ""
             }
            },
            "type": "scattermapbox"
           }
          ],
          "scatterpolar": [
           {
            "marker": {
             "colorbar": {
              "outlinewidth": 0,
              "ticks": ""
             }
            },
            "type": "scatterpolar"
           }
          ],
          "scatterpolargl": [
           {
            "marker": {
             "colorbar": {
              "outlinewidth": 0,
              "ticks": ""
             }
            },
            "type": "scatterpolargl"
           }
          ],
          "scatterternary": [
           {
            "marker": {
             "colorbar": {
              "outlinewidth": 0,
              "ticks": ""
             }
            },
            "type": "scatterternary"
           }
          ],
          "surface": [
           {
            "colorbar": {
             "outlinewidth": 0,
             "ticks": ""
            },
            "colorscale": [
             [
              0,
              "#0d0887"
             ],
             [
              0.1111111111111111,
              "#46039f"
             ],
             [
              0.2222222222222222,
              "#7201a8"
             ],
             [
              0.3333333333333333,
              "#9c179e"
             ],
             [
              0.4444444444444444,
              "#bd3786"
             ],
             [
              0.5555555555555556,
              "#d8576b"
             ],
             [
              0.6666666666666666,
              "#ed7953"
             ],
             [
              0.7777777777777778,
              "#fb9f3a"
             ],
             [
              0.8888888888888888,
              "#fdca26"
             ],
             [
              1,
              "#f0f921"
             ]
            ],
            "type": "surface"
           }
          ],
          "table": [
           {
            "cells": {
             "fill": {
              "color": "#EBF0F8"
             },
             "line": {
              "color": "white"
             }
            },
            "header": {
             "fill": {
              "color": "#C8D4E3"
             },
             "line": {
              "color": "white"
             }
            },
            "type": "table"
           }
          ]
         },
         "layout": {
          "annotationdefaults": {
           "arrowcolor": "#2a3f5f",
           "arrowhead": 0,
           "arrowwidth": 1
          },
          "autotypenumbers": "strict",
          "coloraxis": {
           "colorbar": {
            "outlinewidth": 0,
            "ticks": ""
           }
          },
          "colorscale": {
           "diverging": [
            [
             0,
             "#8e0152"
            ],
            [
             0.1,
             "#c51b7d"
            ],
            [
             0.2,
             "#de77ae"
            ],
            [
             0.3,
             "#f1b6da"
            ],
            [
             0.4,
             "#fde0ef"
            ],
            [
             0.5,
             "#f7f7f7"
            ],
            [
             0.6,
             "#e6f5d0"
            ],
            [
             0.7,
             "#b8e186"
            ],
            [
             0.8,
             "#7fbc41"
            ],
            [
             0.9,
             "#4d9221"
            ],
            [
             1,
             "#276419"
            ]
           ],
           "sequential": [
            [
             0,
             "#0d0887"
            ],
            [
             0.1111111111111111,
             "#46039f"
            ],
            [
             0.2222222222222222,
             "#7201a8"
            ],
            [
             0.3333333333333333,
             "#9c179e"
            ],
            [
             0.4444444444444444,
             "#bd3786"
            ],
            [
             0.5555555555555556,
             "#d8576b"
            ],
            [
             0.6666666666666666,
             "#ed7953"
            ],
            [
             0.7777777777777778,
             "#fb9f3a"
            ],
            [
             0.8888888888888888,
             "#fdca26"
            ],
            [
             1,
             "#f0f921"
            ]
           ],
           "sequentialminus": [
            [
             0,
             "#0d0887"
            ],
            [
             0.1111111111111111,
             "#46039f"
            ],
            [
             0.2222222222222222,
             "#7201a8"
            ],
            [
             0.3333333333333333,
             "#9c179e"
            ],
            [
             0.4444444444444444,
             "#bd3786"
            ],
            [
             0.5555555555555556,
             "#d8576b"
            ],
            [
             0.6666666666666666,
             "#ed7953"
            ],
            [
             0.7777777777777778,
             "#fb9f3a"
            ],
            [
             0.8888888888888888,
             "#fdca26"
            ],
            [
             1,
             "#f0f921"
            ]
           ]
          },
          "colorway": [
           "#636efa",
           "#EF553B",
           "#00cc96",
           "#ab63fa",
           "#FFA15A",
           "#19d3f3",
           "#FF6692",
           "#B6E880",
           "#FF97FF",
           "#FECB52"
          ],
          "font": {
           "color": "#2a3f5f"
          },
          "geo": {
           "bgcolor": "white",
           "lakecolor": "white",
           "landcolor": "#E5ECF6",
           "showlakes": true,
           "showland": true,
           "subunitcolor": "white"
          },
          "hoverlabel": {
           "align": "left"
          },
          "hovermode": "closest",
          "mapbox": {
           "style": "light"
          },
          "paper_bgcolor": "white",
          "plot_bgcolor": "#E5ECF6",
          "polar": {
           "angularaxis": {
            "gridcolor": "white",
            "linecolor": "white",
            "ticks": ""
           },
           "bgcolor": "#E5ECF6",
           "radialaxis": {
            "gridcolor": "white",
            "linecolor": "white",
            "ticks": ""
           }
          },
          "scene": {
           "xaxis": {
            "backgroundcolor": "#E5ECF6",
            "gridcolor": "white",
            "gridwidth": 2,
            "linecolor": "white",
            "showbackground": true,
            "ticks": "",
            "zerolinecolor": "white"
           },
           "yaxis": {
            "backgroundcolor": "#E5ECF6",
            "gridcolor": "white",
            "gridwidth": 2,
            "linecolor": "white",
            "showbackground": true,
            "ticks": "",
            "zerolinecolor": "white"
           },
           "zaxis": {
            "backgroundcolor": "#E5ECF6",
            "gridcolor": "white",
            "gridwidth": 2,
            "linecolor": "white",
            "showbackground": true,
            "ticks": "",
            "zerolinecolor": "white"
           }
          },
          "shapedefaults": {
           "line": {
            "color": "#2a3f5f"
           }
          },
          "ternary": {
           "aaxis": {
            "gridcolor": "white",
            "linecolor": "white",
            "ticks": ""
           },
           "baxis": {
            "gridcolor": "white",
            "linecolor": "white",
            "ticks": ""
           },
           "bgcolor": "#E5ECF6",
           "caxis": {
            "gridcolor": "white",
            "linecolor": "white",
            "ticks": ""
           }
          },
          "title": {
           "x": 0.05
          },
          "xaxis": {
           "automargin": true,
           "gridcolor": "white",
           "linecolor": "white",
           "ticks": "",
           "title": {
            "standoff": 15
           },
           "zerolinecolor": "white",
           "zerolinewidth": 2
          },
          "yaxis": {
           "automargin": true,
           "gridcolor": "white",
           "linecolor": "white",
           "ticks": "",
           "title": {
            "standoff": 15
           },
           "zerolinecolor": "white",
           "zerolinewidth": 2
          }
         }
        },
        "title": {
         "text": "Tweets for Candidates"
        },
        "xaxis": {
         "anchor": "y",
         "categoryarray": [
          "biden",
          "trump"
         ],
         "categoryorder": "array",
         "domain": [
          0,
          1
         ],
         "title": {
          "text": "Candidates"
         }
        },
        "yaxis": {
         "anchor": "x",
         "domain": [
          0,
          1
         ],
         "title": {
          "text": "Number of Tweets"
         }
        }
       }
      }
     },
     "metadata": {},
     "output_type": "display_data"
    }
   ],
   "source": [
    "# Group the data by 'candidate' and count the \n",
    "# number of tweets for each candidate \n",
    "tweets_count = data.groupby('candidate')['tweet'].count().reset_index() \n",
    "\n",
    "# Interactive bar chart \n",
    "fig = px.bar(tweets_count, x='candidate', y='tweet', color='candidate', \n",
    "color_discrete_map={'Trump': 'pink', 'Biden': 'blue'}, \n",
    "labels={'candidate': 'Candidates', 'tweet': 'Number of Tweets'}, \n",
    "title='Tweets for Candidates') \n",
    "\n",
    "# Show the chart \n",
    "fig.show() \n"
   ]
  },
  {
   "cell_type": "markdown",
   "metadata": {},
   "source": [
    "Interpretation: Upon studying the graph, we can say that Donald Trump is the most tweeted about by the general public as compared to Joe Biden."
   ]
  },
  {
   "cell_type": "code",
   "execution_count": 16,
   "metadata": {
    "execution": {
     "iopub.execute_input": "2024-05-28T08:47:02.628624Z",
     "iopub.status.busy": "2024-05-28T08:47:02.627589Z",
     "iopub.status.idle": "2024-05-28T08:47:02.762217Z",
     "shell.execute_reply": "2024-05-28T08:47:02.761048Z",
     "shell.execute_reply.started": "2024-05-28T08:47:02.628577Z"
    },
    "trusted": true
   },
   "outputs": [
    {
     "data": {
      "application/vnd.plotly.v1+json": {
       "config": {
        "plotlyServerURL": "https://plot.ly"
       },
       "data": [
        {
         "alignmentgroup": "True",
         "hovertemplate": "Candidate=%{x}<br>Total Likes=%{y}<extra></extra>",
         "legendgroup": "biden",
         "marker": {
          "color": "#00cc96",
          "pattern": {
           "shape": ""
          }
         },
         "name": "biden",
         "offsetgroup": "biden",
         "orientation": "v",
         "showlegend": true,
         "textposition": "auto",
         "type": "bar",
         "x": [
          "biden"
         ],
         "xaxis": "x",
         "y": [
          2736567
         ],
         "yaxis": "y"
        },
        {
         "alignmentgroup": "True",
         "hovertemplate": "Candidate=%{x}<br>Total Likes=%{y}<extra></extra>",
         "legendgroup": "trump",
         "marker": {
          "color": "#ab63fa",
          "pattern": {
           "shape": ""
          }
         },
         "name": "trump",
         "offsetgroup": "trump",
         "orientation": "v",
         "showlegend": true,
         "textposition": "auto",
         "type": "bar",
         "x": [
          "trump"
         ],
         "xaxis": "x",
         "y": [
          2267712
         ],
         "yaxis": "y"
        }
       ],
       "layout": {
        "barmode": "relative",
        "font": {
         "color": "white"
        },
        "legend": {
         "title": {
          "text": "Candidate"
         },
         "tracegroupgap": 0
        },
        "paper_bgcolor": "black",
        "plot_bgcolor": "black",
        "template": {
         "data": {
          "bar": [
           {
            "error_x": {
             "color": "#2a3f5f"
            },
            "error_y": {
             "color": "#2a3f5f"
            },
            "marker": {
             "line": {
              "color": "#E5ECF6",
              "width": 0.5
             },
             "pattern": {
              "fillmode": "overlay",
              "size": 10,
              "solidity": 0.2
             }
            },
            "type": "bar"
           }
          ],
          "barpolar": [
           {
            "marker": {
             "line": {
              "color": "#E5ECF6",
              "width": 0.5
             },
             "pattern": {
              "fillmode": "overlay",
              "size": 10,
              "solidity": 0.2
             }
            },
            "type": "barpolar"
           }
          ],
          "carpet": [
           {
            "aaxis": {
             "endlinecolor": "#2a3f5f",
             "gridcolor": "white",
             "linecolor": "white",
             "minorgridcolor": "white",
             "startlinecolor": "#2a3f5f"
            },
            "baxis": {
             "endlinecolor": "#2a3f5f",
             "gridcolor": "white",
             "linecolor": "white",
             "minorgridcolor": "white",
             "startlinecolor": "#2a3f5f"
            },
            "type": "carpet"
           }
          ],
          "choropleth": [
           {
            "colorbar": {
             "outlinewidth": 0,
             "ticks": ""
            },
            "type": "choropleth"
           }
          ],
          "contour": [
           {
            "colorbar": {
             "outlinewidth": 0,
             "ticks": ""
            },
            "colorscale": [
             [
              0,
              "#0d0887"
             ],
             [
              0.1111111111111111,
              "#46039f"
             ],
             [
              0.2222222222222222,
              "#7201a8"
             ],
             [
              0.3333333333333333,
              "#9c179e"
             ],
             [
              0.4444444444444444,
              "#bd3786"
             ],
             [
              0.5555555555555556,
              "#d8576b"
             ],
             [
              0.6666666666666666,
              "#ed7953"
             ],
             [
              0.7777777777777778,
              "#fb9f3a"
             ],
             [
              0.8888888888888888,
              "#fdca26"
             ],
             [
              1,
              "#f0f921"
             ]
            ],
            "type": "contour"
           }
          ],
          "contourcarpet": [
           {
            "colorbar": {
             "outlinewidth": 0,
             "ticks": ""
            },
            "type": "contourcarpet"
           }
          ],
          "heatmap": [
           {
            "colorbar": {
             "outlinewidth": 0,
             "ticks": ""
            },
            "colorscale": [
             [
              0,
              "#0d0887"
             ],
             [
              0.1111111111111111,
              "#46039f"
             ],
             [
              0.2222222222222222,
              "#7201a8"
             ],
             [
              0.3333333333333333,
              "#9c179e"
             ],
             [
              0.4444444444444444,
              "#bd3786"
             ],
             [
              0.5555555555555556,
              "#d8576b"
             ],
             [
              0.6666666666666666,
              "#ed7953"
             ],
             [
              0.7777777777777778,
              "#fb9f3a"
             ],
             [
              0.8888888888888888,
              "#fdca26"
             ],
             [
              1,
              "#f0f921"
             ]
            ],
            "type": "heatmap"
           }
          ],
          "heatmapgl": [
           {
            "colorbar": {
             "outlinewidth": 0,
             "ticks": ""
            },
            "colorscale": [
             [
              0,
              "#0d0887"
             ],
             [
              0.1111111111111111,
              "#46039f"
             ],
             [
              0.2222222222222222,
              "#7201a8"
             ],
             [
              0.3333333333333333,
              "#9c179e"
             ],
             [
              0.4444444444444444,
              "#bd3786"
             ],
             [
              0.5555555555555556,
              "#d8576b"
             ],
             [
              0.6666666666666666,
              "#ed7953"
             ],
             [
              0.7777777777777778,
              "#fb9f3a"
             ],
             [
              0.8888888888888888,
              "#fdca26"
             ],
             [
              1,
              "#f0f921"
             ]
            ],
            "type": "heatmapgl"
           }
          ],
          "histogram": [
           {
            "marker": {
             "pattern": {
              "fillmode": "overlay",
              "size": 10,
              "solidity": 0.2
             }
            },
            "type": "histogram"
           }
          ],
          "histogram2d": [
           {
            "colorbar": {
             "outlinewidth": 0,
             "ticks": ""
            },
            "colorscale": [
             [
              0,
              "#0d0887"
             ],
             [
              0.1111111111111111,
              "#46039f"
             ],
             [
              0.2222222222222222,
              "#7201a8"
             ],
             [
              0.3333333333333333,
              "#9c179e"
             ],
             [
              0.4444444444444444,
              "#bd3786"
             ],
             [
              0.5555555555555556,
              "#d8576b"
             ],
             [
              0.6666666666666666,
              "#ed7953"
             ],
             [
              0.7777777777777778,
              "#fb9f3a"
             ],
             [
              0.8888888888888888,
              "#fdca26"
             ],
             [
              1,
              "#f0f921"
             ]
            ],
            "type": "histogram2d"
           }
          ],
          "histogram2dcontour": [
           {
            "colorbar": {
             "outlinewidth": 0,
             "ticks": ""
            },
            "colorscale": [
             [
              0,
              "#0d0887"
             ],
             [
              0.1111111111111111,
              "#46039f"
             ],
             [
              0.2222222222222222,
              "#7201a8"
             ],
             [
              0.3333333333333333,
              "#9c179e"
             ],
             [
              0.4444444444444444,
              "#bd3786"
             ],
             [
              0.5555555555555556,
              "#d8576b"
             ],
             [
              0.6666666666666666,
              "#ed7953"
             ],
             [
              0.7777777777777778,
              "#fb9f3a"
             ],
             [
              0.8888888888888888,
              "#fdca26"
             ],
             [
              1,
              "#f0f921"
             ]
            ],
            "type": "histogram2dcontour"
           }
          ],
          "mesh3d": [
           {
            "colorbar": {
             "outlinewidth": 0,
             "ticks": ""
            },
            "type": "mesh3d"
           }
          ],
          "parcoords": [
           {
            "line": {
             "colorbar": {
              "outlinewidth": 0,
              "ticks": ""
             }
            },
            "type": "parcoords"
           }
          ],
          "pie": [
           {
            "automargin": true,
            "type": "pie"
           }
          ],
          "scatter": [
           {
            "fillpattern": {
             "fillmode": "overlay",
             "size": 10,
             "solidity": 0.2
            },
            "type": "scatter"
           }
          ],
          "scatter3d": [
           {
            "line": {
             "colorbar": {
              "outlinewidth": 0,
              "ticks": ""
             }
            },
            "marker": {
             "colorbar": {
              "outlinewidth": 0,
              "ticks": ""
             }
            },
            "type": "scatter3d"
           }
          ],
          "scattercarpet": [
           {
            "marker": {
             "colorbar": {
              "outlinewidth": 0,
              "ticks": ""
             }
            },
            "type": "scattercarpet"
           }
          ],
          "scattergeo": [
           {
            "marker": {
             "colorbar": {
              "outlinewidth": 0,
              "ticks": ""
             }
            },
            "type": "scattergeo"
           }
          ],
          "scattergl": [
           {
            "marker": {
             "colorbar": {
              "outlinewidth": 0,
              "ticks": ""
             }
            },
            "type": "scattergl"
           }
          ],
          "scattermapbox": [
           {
            "marker": {
             "colorbar": {
              "outlinewidth": 0,
              "ticks": ""
             }
            },
            "type": "scattermapbox"
           }
          ],
          "scatterpolar": [
           {
            "marker": {
             "colorbar": {
              "outlinewidth": 0,
              "ticks": ""
             }
            },
            "type": "scatterpolar"
           }
          ],
          "scatterpolargl": [
           {
            "marker": {
             "colorbar": {
              "outlinewidth": 0,
              "ticks": ""
             }
            },
            "type": "scatterpolargl"
           }
          ],
          "scatterternary": [
           {
            "marker": {
             "colorbar": {
              "outlinewidth": 0,
              "ticks": ""
             }
            },
            "type": "scatterternary"
           }
          ],
          "surface": [
           {
            "colorbar": {
             "outlinewidth": 0,
             "ticks": ""
            },
            "colorscale": [
             [
              0,
              "#0d0887"
             ],
             [
              0.1111111111111111,
              "#46039f"
             ],
             [
              0.2222222222222222,
              "#7201a8"
             ],
             [
              0.3333333333333333,
              "#9c179e"
             ],
             [
              0.4444444444444444,
              "#bd3786"
             ],
             [
              0.5555555555555556,
              "#d8576b"
             ],
             [
              0.6666666666666666,
              "#ed7953"
             ],
             [
              0.7777777777777778,
              "#fb9f3a"
             ],
             [
              0.8888888888888888,
              "#fdca26"
             ],
             [
              1,
              "#f0f921"
             ]
            ],
            "type": "surface"
           }
          ],
          "table": [
           {
            "cells": {
             "fill": {
              "color": "#EBF0F8"
             },
             "line": {
              "color": "white"
             }
            },
            "header": {
             "fill": {
              "color": "#C8D4E3"
             },
             "line": {
              "color": "white"
             }
            },
            "type": "table"
           }
          ]
         },
         "layout": {
          "annotationdefaults": {
           "arrowcolor": "#2a3f5f",
           "arrowhead": 0,
           "arrowwidth": 1
          },
          "autotypenumbers": "strict",
          "coloraxis": {
           "colorbar": {
            "outlinewidth": 0,
            "ticks": ""
           }
          },
          "colorscale": {
           "diverging": [
            [
             0,
             "#8e0152"
            ],
            [
             0.1,
             "#c51b7d"
            ],
            [
             0.2,
             "#de77ae"
            ],
            [
             0.3,
             "#f1b6da"
            ],
            [
             0.4,
             "#fde0ef"
            ],
            [
             0.5,
             "#f7f7f7"
            ],
            [
             0.6,
             "#e6f5d0"
            ],
            [
             0.7,
             "#b8e186"
            ],
            [
             0.8,
             "#7fbc41"
            ],
            [
             0.9,
             "#4d9221"
            ],
            [
             1,
             "#276419"
            ]
           ],
           "sequential": [
            [
             0,
             "#0d0887"
            ],
            [
             0.1111111111111111,
             "#46039f"
            ],
            [
             0.2222222222222222,
             "#7201a8"
            ],
            [
             0.3333333333333333,
             "#9c179e"
            ],
            [
             0.4444444444444444,
             "#bd3786"
            ],
            [
             0.5555555555555556,
             "#d8576b"
            ],
            [
             0.6666666666666666,
             "#ed7953"
            ],
            [
             0.7777777777777778,
             "#fb9f3a"
            ],
            [
             0.8888888888888888,
             "#fdca26"
            ],
            [
             1,
             "#f0f921"
            ]
           ],
           "sequentialminus": [
            [
             0,
             "#0d0887"
            ],
            [
             0.1111111111111111,
             "#46039f"
            ],
            [
             0.2222222222222222,
             "#7201a8"
            ],
            [
             0.3333333333333333,
             "#9c179e"
            ],
            [
             0.4444444444444444,
             "#bd3786"
            ],
            [
             0.5555555555555556,
             "#d8576b"
            ],
            [
             0.6666666666666666,
             "#ed7953"
            ],
            [
             0.7777777777777778,
             "#fb9f3a"
            ],
            [
             0.8888888888888888,
             "#fdca26"
            ],
            [
             1,
             "#f0f921"
            ]
           ]
          },
          "colorway": [
           "#636efa",
           "#EF553B",
           "#00cc96",
           "#ab63fa",
           "#FFA15A",
           "#19d3f3",
           "#FF6692",
           "#B6E880",
           "#FF97FF",
           "#FECB52"
          ],
          "font": {
           "color": "#2a3f5f"
          },
          "geo": {
           "bgcolor": "white",
           "lakecolor": "white",
           "landcolor": "#E5ECF6",
           "showlakes": true,
           "showland": true,
           "subunitcolor": "white"
          },
          "hoverlabel": {
           "align": "left"
          },
          "hovermode": "closest",
          "mapbox": {
           "style": "light"
          },
          "paper_bgcolor": "white",
          "plot_bgcolor": "#E5ECF6",
          "polar": {
           "angularaxis": {
            "gridcolor": "white",
            "linecolor": "white",
            "ticks": ""
           },
           "bgcolor": "#E5ECF6",
           "radialaxis": {
            "gridcolor": "white",
            "linecolor": "white",
            "ticks": ""
           }
          },
          "scene": {
           "xaxis": {
            "backgroundcolor": "#E5ECF6",
            "gridcolor": "white",
            "gridwidth": 2,
            "linecolor": "white",
            "showbackground": true,
            "ticks": "",
            "zerolinecolor": "white"
           },
           "yaxis": {
            "backgroundcolor": "#E5ECF6",
            "gridcolor": "white",
            "gridwidth": 2,
            "linecolor": "white",
            "showbackground": true,
            "ticks": "",
            "zerolinecolor": "white"
           },
           "zaxis": {
            "backgroundcolor": "#E5ECF6",
            "gridcolor": "white",
            "gridwidth": 2,
            "linecolor": "white",
            "showbackground": true,
            "ticks": "",
            "zerolinecolor": "white"
           }
          },
          "shapedefaults": {
           "line": {
            "color": "#2a3f5f"
           }
          },
          "ternary": {
           "aaxis": {
            "gridcolor": "white",
            "linecolor": "white",
            "ticks": ""
           },
           "baxis": {
            "gridcolor": "white",
            "linecolor": "white",
            "ticks": ""
           },
           "bgcolor": "#E5ECF6",
           "caxis": {
            "gridcolor": "white",
            "linecolor": "white",
            "ticks": ""
           }
          },
          "title": {
           "x": 0.05
          },
          "xaxis": {
           "automargin": true,
           "gridcolor": "white",
           "linecolor": "white",
           "ticks": "",
           "title": {
            "standoff": 15
           },
           "zerolinecolor": "white",
           "zerolinewidth": 2
          },
          "yaxis": {
           "automargin": true,
           "gridcolor": "white",
           "linecolor": "white",
           "ticks": "",
           "title": {
            "standoff": 15
           },
           "zerolinecolor": "white",
           "zerolinewidth": 2
          }
         }
        },
        "title": {
         "text": "Comparison of Likes"
        },
        "xaxis": {
         "anchor": "y",
         "categoryarray": [
          "biden",
          "trump"
         ],
         "categoryorder": "array",
         "domain": [
          0,
          1
         ],
         "title": {
          "text": "Candidate"
         }
        },
        "yaxis": {
         "anchor": "x",
         "domain": [
          0,
          1
         ],
         "title": {
          "text": "Total Likes"
         }
        }
       }
      }
     },
     "metadata": {},
     "output_type": "display_data"
    }
   ],
   "source": [
    "# Interactive bar chart \n",
    "likes_comparison = data.groupby('candidate')['likes'].sum().reset_index() \n",
    "fig = px.bar(likes_comparison, x='candidate', y='likes', color='candidate', \n",
    "color_discrete_map={'Trump': 'blue', 'Biden': 'green'}, \n",
    "labels={'candidate': 'Candidate', 'likes': 'Total Likes'}, \n",
    "title='Comparison of Likes') \n",
    "\n",
    "# Update the layout with a black theme \n",
    "fig.update_layout(plot_bgcolor='black', \n",
    "paper_bgcolor='black', font_color='white') \n",
    "\n",
    "# Show the chart \n",
    "fig.show() \n"
   ]
  },
  {
   "cell_type": "markdown",
   "metadata": {},
   "source": [
    "Interpretation: The public has tweeted the most about Donald Trump however the number of likes are high for Joe Biden which definitely indicates liking towards Biden."
   ]
  },
  {
   "cell_type": "markdown",
   "metadata": {},
   "source": [
    "**Top10 Country-wise tweets Counts**\n",
    "\n",
    "So, let’s find out the top 10 countries that are most active in tweeting during the elections."
   ]
  },
  {
   "cell_type": "code",
   "execution_count": 17,
   "metadata": {
    "execution": {
     "iopub.execute_input": "2024-05-28T08:47:07.05203Z",
     "iopub.status.busy": "2024-05-28T08:47:07.051661Z",
     "iopub.status.idle": "2024-05-28T08:47:07.277726Z",
     "shell.execute_reply": "2024-05-28T08:47:07.276549Z",
     "shell.execute_reply.started": "2024-05-28T08:47:07.051988Z"
    },
    "trusted": true
   },
   "outputs": [
    {
     "data": {
      "application/vnd.plotly.v1+json": {
       "config": {
        "plotlyServerURL": "https://plot.ly"
       },
       "data": [
        {
         "alignmentgroup": "True",
         "hovertemplate": "country=%{x}<br>tweet=%{y}<extra></extra>",
         "legendgroup": "",
         "marker": {
          "color": "#AF0038",
          "pattern": {
           "shape": ""
          }
         },
         "name": "",
         "offsetgroup": "",
         "orientation": "v",
         "showlegend": false,
         "textposition": "auto",
         "type": "bar",
         "x": [
          "US",
          "United Kingdom",
          "India",
          "France",
          "Germany",
          "Canada",
          "The Netherlands",
          "Australia",
          "Spain",
          "Brazil"
         ],
         "xaxis": "x",
         "y": [
          182382,
          31869,
          20931,
          19996,
          18534,
          16250,
          8491,
          8330,
          5254,
          4211
         ],
         "yaxis": "y"
        }
       ],
       "layout": {
        "barmode": "relative",
        "legend": {
         "tracegroupgap": 0
        },
        "template": {
         "data": {
          "bar": [
           {
            "error_x": {
             "color": "#f2f5fa"
            },
            "error_y": {
             "color": "#f2f5fa"
            },
            "marker": {
             "line": {
              "color": "rgb(17,17,17)",
              "width": 0.5
             },
             "pattern": {
              "fillmode": "overlay",
              "size": 10,
              "solidity": 0.2
             }
            },
            "type": "bar"
           }
          ],
          "barpolar": [
           {
            "marker": {
             "line": {
              "color": "rgb(17,17,17)",
              "width": 0.5
             },
             "pattern": {
              "fillmode": "overlay",
              "size": 10,
              "solidity": 0.2
             }
            },
            "type": "barpolar"
           }
          ],
          "carpet": [
           {
            "aaxis": {
             "endlinecolor": "#A2B1C6",
             "gridcolor": "#506784",
             "linecolor": "#506784",
             "minorgridcolor": "#506784",
             "startlinecolor": "#A2B1C6"
            },
            "baxis": {
             "endlinecolor": "#A2B1C6",
             "gridcolor": "#506784",
             "linecolor": "#506784",
             "minorgridcolor": "#506784",
             "startlinecolor": "#A2B1C6"
            },
            "type": "carpet"
           }
          ],
          "choropleth": [
           {
            "colorbar": {
             "outlinewidth": 0,
             "ticks": ""
            },
            "type": "choropleth"
           }
          ],
          "contour": [
           {
            "colorbar": {
             "outlinewidth": 0,
             "ticks": ""
            },
            "colorscale": [
             [
              0,
              "#0d0887"
             ],
             [
              0.1111111111111111,
              "#46039f"
             ],
             [
              0.2222222222222222,
              "#7201a8"
             ],
             [
              0.3333333333333333,
              "#9c179e"
             ],
             [
              0.4444444444444444,
              "#bd3786"
             ],
             [
              0.5555555555555556,
              "#d8576b"
             ],
             [
              0.6666666666666666,
              "#ed7953"
             ],
             [
              0.7777777777777778,
              "#fb9f3a"
             ],
             [
              0.8888888888888888,
              "#fdca26"
             ],
             [
              1,
              "#f0f921"
             ]
            ],
            "type": "contour"
           }
          ],
          "contourcarpet": [
           {
            "colorbar": {
             "outlinewidth": 0,
             "ticks": ""
            },
            "type": "contourcarpet"
           }
          ],
          "heatmap": [
           {
            "colorbar": {
             "outlinewidth": 0,
             "ticks": ""
            },
            "colorscale": [
             [
              0,
              "#0d0887"
             ],
             [
              0.1111111111111111,
              "#46039f"
             ],
             [
              0.2222222222222222,
              "#7201a8"
             ],
             [
              0.3333333333333333,
              "#9c179e"
             ],
             [
              0.4444444444444444,
              "#bd3786"
             ],
             [
              0.5555555555555556,
              "#d8576b"
             ],
             [
              0.6666666666666666,
              "#ed7953"
             ],
             [
              0.7777777777777778,
              "#fb9f3a"
             ],
             [
              0.8888888888888888,
              "#fdca26"
             ],
             [
              1,
              "#f0f921"
             ]
            ],
            "type": "heatmap"
           }
          ],
          "heatmapgl": [
           {
            "colorbar": {
             "outlinewidth": 0,
             "ticks": ""
            },
            "colorscale": [
             [
              0,
              "#0d0887"
             ],
             [
              0.1111111111111111,
              "#46039f"
             ],
             [
              0.2222222222222222,
              "#7201a8"
             ],
             [
              0.3333333333333333,
              "#9c179e"
             ],
             [
              0.4444444444444444,
              "#bd3786"
             ],
             [
              0.5555555555555556,
              "#d8576b"
             ],
             [
              0.6666666666666666,
              "#ed7953"
             ],
             [
              0.7777777777777778,
              "#fb9f3a"
             ],
             [
              0.8888888888888888,
              "#fdca26"
             ],
             [
              1,
              "#f0f921"
             ]
            ],
            "type": "heatmapgl"
           }
          ],
          "histogram": [
           {
            "marker": {
             "pattern": {
              "fillmode": "overlay",
              "size": 10,
              "solidity": 0.2
             }
            },
            "type": "histogram"
           }
          ],
          "histogram2d": [
           {
            "colorbar": {
             "outlinewidth": 0,
             "ticks": ""
            },
            "colorscale": [
             [
              0,
              "#0d0887"
             ],
             [
              0.1111111111111111,
              "#46039f"
             ],
             [
              0.2222222222222222,
              "#7201a8"
             ],
             [
              0.3333333333333333,
              "#9c179e"
             ],
             [
              0.4444444444444444,
              "#bd3786"
             ],
             [
              0.5555555555555556,
              "#d8576b"
             ],
             [
              0.6666666666666666,
              "#ed7953"
             ],
             [
              0.7777777777777778,
              "#fb9f3a"
             ],
             [
              0.8888888888888888,
              "#fdca26"
             ],
             [
              1,
              "#f0f921"
             ]
            ],
            "type": "histogram2d"
           }
          ],
          "histogram2dcontour": [
           {
            "colorbar": {
             "outlinewidth": 0,
             "ticks": ""
            },
            "colorscale": [
             [
              0,
              "#0d0887"
             ],
             [
              0.1111111111111111,
              "#46039f"
             ],
             [
              0.2222222222222222,
              "#7201a8"
             ],
             [
              0.3333333333333333,
              "#9c179e"
             ],
             [
              0.4444444444444444,
              "#bd3786"
             ],
             [
              0.5555555555555556,
              "#d8576b"
             ],
             [
              0.6666666666666666,
              "#ed7953"
             ],
             [
              0.7777777777777778,
              "#fb9f3a"
             ],
             [
              0.8888888888888888,
              "#fdca26"
             ],
             [
              1,
              "#f0f921"
             ]
            ],
            "type": "histogram2dcontour"
           }
          ],
          "mesh3d": [
           {
            "colorbar": {
             "outlinewidth": 0,
             "ticks": ""
            },
            "type": "mesh3d"
           }
          ],
          "parcoords": [
           {
            "line": {
             "colorbar": {
              "outlinewidth": 0,
              "ticks": ""
             }
            },
            "type": "parcoords"
           }
          ],
          "pie": [
           {
            "automargin": true,
            "type": "pie"
           }
          ],
          "scatter": [
           {
            "marker": {
             "line": {
              "color": "#283442"
             }
            },
            "type": "scatter"
           }
          ],
          "scatter3d": [
           {
            "line": {
             "colorbar": {
              "outlinewidth": 0,
              "ticks": ""
             }
            },
            "marker": {
             "colorbar": {
              "outlinewidth": 0,
              "ticks": ""
             }
            },
            "type": "scatter3d"
           }
          ],
          "scattercarpet": [
           {
            "marker": {
             "colorbar": {
              "outlinewidth": 0,
              "ticks": ""
             }
            },
            "type": "scattercarpet"
           }
          ],
          "scattergeo": [
           {
            "marker": {
             "colorbar": {
              "outlinewidth": 0,
              "ticks": ""
             }
            },
            "type": "scattergeo"
           }
          ],
          "scattergl": [
           {
            "marker": {
             "line": {
              "color": "#283442"
             }
            },
            "type": "scattergl"
           }
          ],
          "scattermapbox": [
           {
            "marker": {
             "colorbar": {
              "outlinewidth": 0,
              "ticks": ""
             }
            },
            "type": "scattermapbox"
           }
          ],
          "scatterpolar": [
           {
            "marker": {
             "colorbar": {
              "outlinewidth": 0,
              "ticks": ""
             }
            },
            "type": "scatterpolar"
           }
          ],
          "scatterpolargl": [
           {
            "marker": {
             "colorbar": {
              "outlinewidth": 0,
              "ticks": ""
             }
            },
            "type": "scatterpolargl"
           }
          ],
          "scatterternary": [
           {
            "marker": {
             "colorbar": {
              "outlinewidth": 0,
              "ticks": ""
             }
            },
            "type": "scatterternary"
           }
          ],
          "surface": [
           {
            "colorbar": {
             "outlinewidth": 0,
             "ticks": ""
            },
            "colorscale": [
             [
              0,
              "#0d0887"
             ],
             [
              0.1111111111111111,
              "#46039f"
             ],
             [
              0.2222222222222222,
              "#7201a8"
             ],
             [
              0.3333333333333333,
              "#9c179e"
             ],
             [
              0.4444444444444444,
              "#bd3786"
             ],
             [
              0.5555555555555556,
              "#d8576b"
             ],
             [
              0.6666666666666666,
              "#ed7953"
             ],
             [
              0.7777777777777778,
              "#fb9f3a"
             ],
             [
              0.8888888888888888,
              "#fdca26"
             ],
             [
              1,
              "#f0f921"
             ]
            ],
            "type": "surface"
           }
          ],
          "table": [
           {
            "cells": {
             "fill": {
              "color": "#506784"
             },
             "line": {
              "color": "rgb(17,17,17)"
             }
            },
            "header": {
             "fill": {
              "color": "#2a3f5f"
             },
             "line": {
              "color": "rgb(17,17,17)"
             }
            },
            "type": "table"
           }
          ]
         },
         "layout": {
          "annotationdefaults": {
           "arrowcolor": "#f2f5fa",
           "arrowhead": 0,
           "arrowwidth": 1
          },
          "autotypenumbers": "strict",
          "coloraxis": {
           "colorbar": {
            "outlinewidth": 0,
            "ticks": ""
           }
          },
          "colorscale": {
           "diverging": [
            [
             0,
             "#8e0152"
            ],
            [
             0.1,
             "#c51b7d"
            ],
            [
             0.2,
             "#de77ae"
            ],
            [
             0.3,
             "#f1b6da"
            ],
            [
             0.4,
             "#fde0ef"
            ],
            [
             0.5,
             "#f7f7f7"
            ],
            [
             0.6,
             "#e6f5d0"
            ],
            [
             0.7,
             "#b8e186"
            ],
            [
             0.8,
             "#7fbc41"
            ],
            [
             0.9,
             "#4d9221"
            ],
            [
             1,
             "#276419"
            ]
           ],
           "sequential": [
            [
             0,
             "#0d0887"
            ],
            [
             0.1111111111111111,
             "#46039f"
            ],
            [
             0.2222222222222222,
             "#7201a8"
            ],
            [
             0.3333333333333333,
             "#9c179e"
            ],
            [
             0.4444444444444444,
             "#bd3786"
            ],
            [
             0.5555555555555556,
             "#d8576b"
            ],
            [
             0.6666666666666666,
             "#ed7953"
            ],
            [
             0.7777777777777778,
             "#fb9f3a"
            ],
            [
             0.8888888888888888,
             "#fdca26"
            ],
            [
             1,
             "#f0f921"
            ]
           ],
           "sequentialminus": [
            [
             0,
             "#0d0887"
            ],
            [
             0.1111111111111111,
             "#46039f"
            ],
            [
             0.2222222222222222,
             "#7201a8"
            ],
            [
             0.3333333333333333,
             "#9c179e"
            ],
            [
             0.4444444444444444,
             "#bd3786"
            ],
            [
             0.5555555555555556,
             "#d8576b"
            ],
            [
             0.6666666666666666,
             "#ed7953"
            ],
            [
             0.7777777777777778,
             "#fb9f3a"
            ],
            [
             0.8888888888888888,
             "#fdca26"
            ],
            [
             1,
             "#f0f921"
            ]
           ]
          },
          "colorway": [
           "#636efa",
           "#EF553B",
           "#00cc96",
           "#ab63fa",
           "#FFA15A",
           "#19d3f3",
           "#FF6692",
           "#B6E880",
           "#FF97FF",
           "#FECB52"
          ],
          "font": {
           "color": "#f2f5fa"
          },
          "geo": {
           "bgcolor": "rgb(17,17,17)",
           "lakecolor": "rgb(17,17,17)",
           "landcolor": "rgb(17,17,17)",
           "showlakes": true,
           "showland": true,
           "subunitcolor": "#506784"
          },
          "hoverlabel": {
           "align": "left"
          },
          "hovermode": "closest",
          "mapbox": {
           "style": "dark"
          },
          "paper_bgcolor": "rgb(17,17,17)",
          "plot_bgcolor": "rgb(17,17,17)",
          "polar": {
           "angularaxis": {
            "gridcolor": "#506784",
            "linecolor": "#506784",
            "ticks": ""
           },
           "bgcolor": "rgb(17,17,17)",
           "radialaxis": {
            "gridcolor": "#506784",
            "linecolor": "#506784",
            "ticks": ""
           }
          },
          "scene": {
           "xaxis": {
            "backgroundcolor": "rgb(17,17,17)",
            "gridcolor": "#506784",
            "gridwidth": 2,
            "linecolor": "#506784",
            "showbackground": true,
            "ticks": "",
            "zerolinecolor": "#C8D4E3"
           },
           "yaxis": {
            "backgroundcolor": "rgb(17,17,17)",
            "gridcolor": "#506784",
            "gridwidth": 2,
            "linecolor": "#506784",
            "showbackground": true,
            "ticks": "",
            "zerolinecolor": "#C8D4E3"
           },
           "zaxis": {
            "backgroundcolor": "rgb(17,17,17)",
            "gridcolor": "#506784",
            "gridwidth": 2,
            "linecolor": "#506784",
            "showbackground": true,
            "ticks": "",
            "zerolinecolor": "#C8D4E3"
           }
          },
          "shapedefaults": {
           "line": {
            "color": "#f2f5fa"
           }
          },
          "sliderdefaults": {
           "bgcolor": "#C8D4E3",
           "bordercolor": "rgb(17,17,17)",
           "borderwidth": 1,
           "tickwidth": 0
          },
          "ternary": {
           "aaxis": {
            "gridcolor": "#506784",
            "linecolor": "#506784",
            "ticks": ""
           },
           "baxis": {
            "gridcolor": "#506784",
            "linecolor": "#506784",
            "ticks": ""
           },
           "bgcolor": "rgb(17,17,17)",
           "caxis": {
            "gridcolor": "#506784",
            "linecolor": "#506784",
            "ticks": ""
           }
          },
          "title": {
           "x": 0.05
          },
          "updatemenudefaults": {
           "bgcolor": "#506784",
           "borderwidth": 0
          },
          "xaxis": {
           "automargin": true,
           "gridcolor": "#283442",
           "linecolor": "#506784",
           "ticks": "",
           "title": {
            "standoff": 15
           },
           "zerolinecolor": "#283442",
           "zerolinewidth": 2
          },
          "yaxis": {
           "automargin": true,
           "gridcolor": "#283442",
           "linecolor": "#506784",
           "ticks": "",
           "title": {
            "standoff": 15
           },
           "zerolinecolor": "#283442",
           "zerolinewidth": 2
          }
         }
        },
        "title": {
         "text": "Top10 Countrywise tweets Counts"
        },
        "xaxis": {
         "anchor": "y",
         "domain": [
          0,
          1
         ],
         "title": {
          "text": "country"
         }
        },
        "yaxis": {
         "anchor": "x",
         "domain": [
          0,
          1
         ],
         "title": {
          "text": "tweet"
         }
        }
       }
      }
     },
     "metadata": {},
     "output_type": "display_data"
    }
   ],
   "source": [
    "# Top10 Countrywise tweets Counts \n",
    "top10countries = data.groupby('country')['tweet'].count( \n",
    ").sort_values(ascending=False).reset_index().head(10) \n",
    "# top10countries \n",
    "\n",
    "# Interactive bar chart \n",
    "fig = px.bar(top10countries, x='country', y='tweet', \n",
    "template='plotly_dark', \n",
    "color_discrete_sequence=px.colors.qualitative.Dark24_r, \n",
    "title='Top10 Countrywise tweets Counts') \n",
    "\n",
    "# To view the graph \n",
    "fig.show() \n"
   ]
  },
  {
   "cell_type": "markdown",
   "metadata": {},
   "source": [
    "**Tweet Counts for Each Candidate in the Top 10 Countries**\n",
    "Now, let us find out the number of tweets done for each candidate by all the countries."
   ]
  },
  {
   "cell_type": "code",
   "execution_count": 18,
   "metadata": {
    "execution": {
     "iopub.execute_input": "2024-05-28T08:47:20.727825Z",
     "iopub.status.busy": "2024-05-28T08:47:20.726936Z",
     "iopub.status.idle": "2024-05-28T08:47:20.935614Z",
     "shell.execute_reply": "2024-05-28T08:47:20.934495Z",
     "shell.execute_reply.started": "2024-05-28T08:47:20.727796Z"
    },
    "trusted": true
   },
   "outputs": [
    {
     "data": {
      "application/vnd.plotly.v1+json": {
       "config": {
        "plotlyServerURL": "https://plot.ly"
       },
       "data": [
        {
         "alignmentgroup": "True",
         "hovertemplate": "Candidate=biden<br>Country=%{x}<br>Number of Tweets=%{y}<extra></extra>",
         "legendgroup": "biden",
         "marker": {
          "color": "#636efa",
          "pattern": {
           "shape": ""
          }
         },
         "name": "biden",
         "offsetgroup": "biden",
         "orientation": "v",
         "showlegend": true,
         "textposition": "auto",
         "type": "bar",
         "x": [
          "Australia",
          "Brazil",
          "Canada",
          "France",
          "Germany",
          "India",
          "Spain",
          "The Netherlands",
          "US",
          "United Kingdom"
         ],
         "xaxis": "x",
         "y": [
          3181,
          2063,
          6011,
          8564,
          7077,
          11243,
          2214,
          3576,
          85760,
          12973
         ],
         "yaxis": "y"
        },
        {
         "alignmentgroup": "True",
         "hovertemplate": "Candidate=trump<br>Country=%{x}<br>Number of Tweets=%{y}<extra></extra>",
         "legendgroup": "trump",
         "marker": {
          "color": "#EF553B",
          "pattern": {
           "shape": ""
          }
         },
         "name": "trump",
         "offsetgroup": "trump",
         "orientation": "v",
         "showlegend": true,
         "textposition": "auto",
         "type": "bar",
         "x": [
          "Australia",
          "Brazil",
          "Canada",
          "France",
          "Germany",
          "India",
          "Spain",
          "The Netherlands",
          "US",
          "United Kingdom"
         ],
         "xaxis": "x",
         "y": [
          5149,
          2148,
          10239,
          11432,
          11457,
          9688,
          3040,
          4915,
          96622,
          18896
         ],
         "yaxis": "y"
        }
       ],
       "layout": {
        "barmode": "group",
        "legend": {
         "title": {
          "text": "Candidate"
         },
         "tracegroupgap": 0
        },
        "template": {
         "data": {
          "bar": [
           {
            "error_x": {
             "color": "#f2f5fa"
            },
            "error_y": {
             "color": "#f2f5fa"
            },
            "marker": {
             "line": {
              "color": "rgb(17,17,17)",
              "width": 0.5
             },
             "pattern": {
              "fillmode": "overlay",
              "size": 10,
              "solidity": 0.2
             }
            },
            "type": "bar"
           }
          ],
          "barpolar": [
           {
            "marker": {
             "line": {
              "color": "rgb(17,17,17)",
              "width": 0.5
             },
             "pattern": {
              "fillmode": "overlay",
              "size": 10,
              "solidity": 0.2
             }
            },
            "type": "barpolar"
           }
          ],
          "carpet": [
           {
            "aaxis": {
             "endlinecolor": "#A2B1C6",
             "gridcolor": "#506784",
             "linecolor": "#506784",
             "minorgridcolor": "#506784",
             "startlinecolor": "#A2B1C6"
            },
            "baxis": {
             "endlinecolor": "#A2B1C6",
             "gridcolor": "#506784",
             "linecolor": "#506784",
             "minorgridcolor": "#506784",
             "startlinecolor": "#A2B1C6"
            },
            "type": "carpet"
           }
          ],
          "choropleth": [
           {
            "colorbar": {
             "outlinewidth": 0,
             "ticks": ""
            },
            "type": "choropleth"
           }
          ],
          "contour": [
           {
            "colorbar": {
             "outlinewidth": 0,
             "ticks": ""
            },
            "colorscale": [
             [
              0,
              "#0d0887"
             ],
             [
              0.1111111111111111,
              "#46039f"
             ],
             [
              0.2222222222222222,
              "#7201a8"
             ],
             [
              0.3333333333333333,
              "#9c179e"
             ],
             [
              0.4444444444444444,
              "#bd3786"
             ],
             [
              0.5555555555555556,
              "#d8576b"
             ],
             [
              0.6666666666666666,
              "#ed7953"
             ],
             [
              0.7777777777777778,
              "#fb9f3a"
             ],
             [
              0.8888888888888888,
              "#fdca26"
             ],
             [
              1,
              "#f0f921"
             ]
            ],
            "type": "contour"
           }
          ],
          "contourcarpet": [
           {
            "colorbar": {
             "outlinewidth": 0,
             "ticks": ""
            },
            "type": "contourcarpet"
           }
          ],
          "heatmap": [
           {
            "colorbar": {
             "outlinewidth": 0,
             "ticks": ""
            },
            "colorscale": [
             [
              0,
              "#0d0887"
             ],
             [
              0.1111111111111111,
              "#46039f"
             ],
             [
              0.2222222222222222,
              "#7201a8"
             ],
             [
              0.3333333333333333,
              "#9c179e"
             ],
             [
              0.4444444444444444,
              "#bd3786"
             ],
             [
              0.5555555555555556,
              "#d8576b"
             ],
             [
              0.6666666666666666,
              "#ed7953"
             ],
             [
              0.7777777777777778,
              "#fb9f3a"
             ],
             [
              0.8888888888888888,
              "#fdca26"
             ],
             [
              1,
              "#f0f921"
             ]
            ],
            "type": "heatmap"
           }
          ],
          "heatmapgl": [
           {
            "colorbar": {
             "outlinewidth": 0,
             "ticks": ""
            },
            "colorscale": [
             [
              0,
              "#0d0887"
             ],
             [
              0.1111111111111111,
              "#46039f"
             ],
             [
              0.2222222222222222,
              "#7201a8"
             ],
             [
              0.3333333333333333,
              "#9c179e"
             ],
             [
              0.4444444444444444,
              "#bd3786"
             ],
             [
              0.5555555555555556,
              "#d8576b"
             ],
             [
              0.6666666666666666,
              "#ed7953"
             ],
             [
              0.7777777777777778,
              "#fb9f3a"
             ],
             [
              0.8888888888888888,
              "#fdca26"
             ],
             [
              1,
              "#f0f921"
             ]
            ],
            "type": "heatmapgl"
           }
          ],
          "histogram": [
           {
            "marker": {
             "pattern": {
              "fillmode": "overlay",
              "size": 10,
              "solidity": 0.2
             }
            },
            "type": "histogram"
           }
          ],
          "histogram2d": [
           {
            "colorbar": {
             "outlinewidth": 0,
             "ticks": ""
            },
            "colorscale": [
             [
              0,
              "#0d0887"
             ],
             [
              0.1111111111111111,
              "#46039f"
             ],
             [
              0.2222222222222222,
              "#7201a8"
             ],
             [
              0.3333333333333333,
              "#9c179e"
             ],
             [
              0.4444444444444444,
              "#bd3786"
             ],
             [
              0.5555555555555556,
              "#d8576b"
             ],
             [
              0.6666666666666666,
              "#ed7953"
             ],
             [
              0.7777777777777778,
              "#fb9f3a"
             ],
             [
              0.8888888888888888,
              "#fdca26"
             ],
             [
              1,
              "#f0f921"
             ]
            ],
            "type": "histogram2d"
           }
          ],
          "histogram2dcontour": [
           {
            "colorbar": {
             "outlinewidth": 0,
             "ticks": ""
            },
            "colorscale": [
             [
              0,
              "#0d0887"
             ],
             [
              0.1111111111111111,
              "#46039f"
             ],
             [
              0.2222222222222222,
              "#7201a8"
             ],
             [
              0.3333333333333333,
              "#9c179e"
             ],
             [
              0.4444444444444444,
              "#bd3786"
             ],
             [
              0.5555555555555556,
              "#d8576b"
             ],
             [
              0.6666666666666666,
              "#ed7953"
             ],
             [
              0.7777777777777778,
              "#fb9f3a"
             ],
             [
              0.8888888888888888,
              "#fdca26"
             ],
             [
              1,
              "#f0f921"
             ]
            ],
            "type": "histogram2dcontour"
           }
          ],
          "mesh3d": [
           {
            "colorbar": {
             "outlinewidth": 0,
             "ticks": ""
            },
            "type": "mesh3d"
           }
          ],
          "parcoords": [
           {
            "line": {
             "colorbar": {
              "outlinewidth": 0,
              "ticks": ""
             }
            },
            "type": "parcoords"
           }
          ],
          "pie": [
           {
            "automargin": true,
            "type": "pie"
           }
          ],
          "scatter": [
           {
            "marker": {
             "line": {
              "color": "#283442"
             }
            },
            "type": "scatter"
           }
          ],
          "scatter3d": [
           {
            "line": {
             "colorbar": {
              "outlinewidth": 0,
              "ticks": ""
             }
            },
            "marker": {
             "colorbar": {
              "outlinewidth": 0,
              "ticks": ""
             }
            },
            "type": "scatter3d"
           }
          ],
          "scattercarpet": [
           {
            "marker": {
             "colorbar": {
              "outlinewidth": 0,
              "ticks": ""
             }
            },
            "type": "scattercarpet"
           }
          ],
          "scattergeo": [
           {
            "marker": {
             "colorbar": {
              "outlinewidth": 0,
              "ticks": ""
             }
            },
            "type": "scattergeo"
           }
          ],
          "scattergl": [
           {
            "marker": {
             "line": {
              "color": "#283442"
             }
            },
            "type": "scattergl"
           }
          ],
          "scattermapbox": [
           {
            "marker": {
             "colorbar": {
              "outlinewidth": 0,
              "ticks": ""
             }
            },
            "type": "scattermapbox"
           }
          ],
          "scatterpolar": [
           {
            "marker": {
             "colorbar": {
              "outlinewidth": 0,
              "ticks": ""
             }
            },
            "type": "scatterpolar"
           }
          ],
          "scatterpolargl": [
           {
            "marker": {
             "colorbar": {
              "outlinewidth": 0,
              "ticks": ""
             }
            },
            "type": "scatterpolargl"
           }
          ],
          "scatterternary": [
           {
            "marker": {
             "colorbar": {
              "outlinewidth": 0,
              "ticks": ""
             }
            },
            "type": "scatterternary"
           }
          ],
          "surface": [
           {
            "colorbar": {
             "outlinewidth": 0,
             "ticks": ""
            },
            "colorscale": [
             [
              0,
              "#0d0887"
             ],
             [
              0.1111111111111111,
              "#46039f"
             ],
             [
              0.2222222222222222,
              "#7201a8"
             ],
             [
              0.3333333333333333,
              "#9c179e"
             ],
             [
              0.4444444444444444,
              "#bd3786"
             ],
             [
              0.5555555555555556,
              "#d8576b"
             ],
             [
              0.6666666666666666,
              "#ed7953"
             ],
             [
              0.7777777777777778,
              "#fb9f3a"
             ],
             [
              0.8888888888888888,
              "#fdca26"
             ],
             [
              1,
              "#f0f921"
             ]
            ],
            "type": "surface"
           }
          ],
          "table": [
           {
            "cells": {
             "fill": {
              "color": "#506784"
             },
             "line": {
              "color": "rgb(17,17,17)"
             }
            },
            "header": {
             "fill": {
              "color": "#2a3f5f"
             },
             "line": {
              "color": "rgb(17,17,17)"
             }
            },
            "type": "table"
           }
          ]
         },
         "layout": {
          "annotationdefaults": {
           "arrowcolor": "#f2f5fa",
           "arrowhead": 0,
           "arrowwidth": 1
          },
          "autotypenumbers": "strict",
          "coloraxis": {
           "colorbar": {
            "outlinewidth": 0,
            "ticks": ""
           }
          },
          "colorscale": {
           "diverging": [
            [
             0,
             "#8e0152"
            ],
            [
             0.1,
             "#c51b7d"
            ],
            [
             0.2,
             "#de77ae"
            ],
            [
             0.3,
             "#f1b6da"
            ],
            [
             0.4,
             "#fde0ef"
            ],
            [
             0.5,
             "#f7f7f7"
            ],
            [
             0.6,
             "#e6f5d0"
            ],
            [
             0.7,
             "#b8e186"
            ],
            [
             0.8,
             "#7fbc41"
            ],
            [
             0.9,
             "#4d9221"
            ],
            [
             1,
             "#276419"
            ]
           ],
           "sequential": [
            [
             0,
             "#0d0887"
            ],
            [
             0.1111111111111111,
             "#46039f"
            ],
            [
             0.2222222222222222,
             "#7201a8"
            ],
            [
             0.3333333333333333,
             "#9c179e"
            ],
            [
             0.4444444444444444,
             "#bd3786"
            ],
            [
             0.5555555555555556,
             "#d8576b"
            ],
            [
             0.6666666666666666,
             "#ed7953"
            ],
            [
             0.7777777777777778,
             "#fb9f3a"
            ],
            [
             0.8888888888888888,
             "#fdca26"
            ],
            [
             1,
             "#f0f921"
            ]
           ],
           "sequentialminus": [
            [
             0,
             "#0d0887"
            ],
            [
             0.1111111111111111,
             "#46039f"
            ],
            [
             0.2222222222222222,
             "#7201a8"
            ],
            [
             0.3333333333333333,
             "#9c179e"
            ],
            [
             0.4444444444444444,
             "#bd3786"
            ],
            [
             0.5555555555555556,
             "#d8576b"
            ],
            [
             0.6666666666666666,
             "#ed7953"
            ],
            [
             0.7777777777777778,
             "#fb9f3a"
            ],
            [
             0.8888888888888888,
             "#fdca26"
            ],
            [
             1,
             "#f0f921"
            ]
           ]
          },
          "colorway": [
           "#636efa",
           "#EF553B",
           "#00cc96",
           "#ab63fa",
           "#FFA15A",
           "#19d3f3",
           "#FF6692",
           "#B6E880",
           "#FF97FF",
           "#FECB52"
          ],
          "font": {
           "color": "#f2f5fa"
          },
          "geo": {
           "bgcolor": "rgb(17,17,17)",
           "lakecolor": "rgb(17,17,17)",
           "landcolor": "rgb(17,17,17)",
           "showlakes": true,
           "showland": true,
           "subunitcolor": "#506784"
          },
          "hoverlabel": {
           "align": "left"
          },
          "hovermode": "closest",
          "mapbox": {
           "style": "dark"
          },
          "paper_bgcolor": "rgb(17,17,17)",
          "plot_bgcolor": "rgb(17,17,17)",
          "polar": {
           "angularaxis": {
            "gridcolor": "#506784",
            "linecolor": "#506784",
            "ticks": ""
           },
           "bgcolor": "rgb(17,17,17)",
           "radialaxis": {
            "gridcolor": "#506784",
            "linecolor": "#506784",
            "ticks": ""
           }
          },
          "scene": {
           "xaxis": {
            "backgroundcolor": "rgb(17,17,17)",
            "gridcolor": "#506784",
            "gridwidth": 2,
            "linecolor": "#506784",
            "showbackground": true,
            "ticks": "",
            "zerolinecolor": "#C8D4E3"
           },
           "yaxis": {
            "backgroundcolor": "rgb(17,17,17)",
            "gridcolor": "#506784",
            "gridwidth": 2,
            "linecolor": "#506784",
            "showbackground": true,
            "ticks": "",
            "zerolinecolor": "#C8D4E3"
           },
           "zaxis": {
            "backgroundcolor": "rgb(17,17,17)",
            "gridcolor": "#506784",
            "gridwidth": 2,
            "linecolor": "#506784",
            "showbackground": true,
            "ticks": "",
            "zerolinecolor": "#C8D4E3"
           }
          },
          "shapedefaults": {
           "line": {
            "color": "#f2f5fa"
           }
          },
          "sliderdefaults": {
           "bgcolor": "#C8D4E3",
           "bordercolor": "rgb(17,17,17)",
           "borderwidth": 1,
           "tickwidth": 0
          },
          "ternary": {
           "aaxis": {
            "gridcolor": "#506784",
            "linecolor": "#506784",
            "ticks": ""
           },
           "baxis": {
            "gridcolor": "#506784",
            "linecolor": "#506784",
            "ticks": ""
           },
           "bgcolor": "rgb(17,17,17)",
           "caxis": {
            "gridcolor": "#506784",
            "linecolor": "#506784",
            "ticks": ""
           }
          },
          "title": {
           "x": 0.05
          },
          "updatemenudefaults": {
           "bgcolor": "#506784",
           "borderwidth": 0
          },
          "xaxis": {
           "automargin": true,
           "gridcolor": "#283442",
           "linecolor": "#506784",
           "ticks": "",
           "title": {
            "standoff": 15
           },
           "zerolinecolor": "#283442",
           "zerolinewidth": 2
          },
          "yaxis": {
           "automargin": true,
           "gridcolor": "#283442",
           "linecolor": "#506784",
           "ticks": "",
           "title": {
            "standoff": 15
           },
           "zerolinecolor": "#283442",
           "zerolinewidth": 2
          }
         }
        },
        "title": {
         "text": "Tweet Counts for Each Candidate in the Top 10 Countries"
        },
        "xaxis": {
         "anchor": "y",
         "domain": [
          0,
          1
         ],
         "title": {
          "text": "Country"
         }
        },
        "yaxis": {
         "anchor": "x",
         "domain": [
          0,
          1
         ],
         "title": {
          "text": "Number of Tweets"
         }
        }
       }
      }
     },
     "metadata": {},
     "output_type": "display_data"
    }
   ],
   "source": [
    "# the number of tweets done for each \n",
    "# candidate by all the countries. \n",
    "tweet_df = data.groupby(['country', 'candidate'])[ \n",
    "'tweet'].count().reset_index() \n",
    "\n",
    "# Candidate for top 10 country tweet \n",
    "tweeters = tweet_df[tweet_df['country'].isin(top10countries.country)] \n",
    "\n",
    "# Plot for tweet counts for each candidate \n",
    "# in the top 10 countries \n",
    "fig = px.bar(tweeters, x='country', y='tweet', color='candidate', \n",
    "labels={'country': 'Country', 'tweet': 'Number of Tweets', \n",
    "'candidate': 'Candidate'}, \n",
    "title='Tweet Counts for Each Candidate in the Top 10 Countries', \n",
    "template='plotly_dark', \n",
    "barmode='group') \n",
    "\n",
    "# Show the chart \n",
    "fig.show() \n"
   ]
  },
  {
   "cell_type": "markdown",
   "metadata": {},
   "source": [
    "**Interpretation:** All the countries are tweeting the most about Trump. However, India is talking more about Joe Biden."
   ]
  },
  {
   "cell_type": "markdown",
   "metadata": {},
   "source": [
    "**Sentiment Analysis for prediction of election results**\n",
    "\n",
    "We shall only take into account US citizens’ opinions here, as they are a crucial deciding factor in who becomes the US president."
   ]
  },
  {
   "cell_type": "code",
   "execution_count": 19,
   "metadata": {
    "execution": {
     "iopub.execute_input": "2024-05-28T08:47:24.936221Z",
     "iopub.status.busy": "2024-05-28T08:47:24.935533Z",
     "iopub.status.idle": "2024-05-28T08:47:24.942652Z",
     "shell.execute_reply": "2024-05-28T08:47:24.941678Z",
     "shell.execute_reply.started": "2024-05-28T08:47:24.93619Z"
    },
    "trusted": true
   },
   "outputs": [],
   "source": [
    "def clean(text): \n",
    "\t# Remove URLs \n",
    "\ttext = re.sub(r'https?://\\S+|www\\.\\S+', '', str(text)) \n",
    "\n",
    "\t# Convert text to lowercase \n",
    "\ttext = text.lower() \n",
    "\n",
    "\t# Replace anything other than alphabets a-z with a space \n",
    "\ttext = re.sub('[^a-z]', ' ', text) \n",
    "\n",
    "\t# Split the text into single words \n",
    "\ttext = text.split() \n",
    "\n",
    "\t# Initialize WordNetLemmatizer \n",
    "\tlm = WordNetLemmatizer() \n",
    "\n",
    "\t# Lemmatize words and remove stopwords \n",
    "\ttext = [lm.lemmatize(word) for word in text if word not in set( \n",
    "\t\tstopwords.words('english'))] \n",
    "\n",
    "\t# Join the words back into a sentence \n",
    "\ttext = ' '.join(word for word in text) \n",
    "\n",
    "\treturn text \n"
   ]
  },
  {
   "cell_type": "markdown",
   "metadata": {},
   "source": [
    "**Get polarity, subjectivity, and Analysis**\n",
    "Now, let’s create a function to get polarity, subjectivity, and Analysis function to fetch sentiments from the data."
   ]
  },
  {
   "cell_type": "code",
   "execution_count": 20,
   "metadata": {
    "execution": {
     "iopub.execute_input": "2024-05-28T08:47:27.278857Z",
     "iopub.status.busy": "2024-05-28T08:47:27.277929Z",
     "iopub.status.idle": "2024-05-28T08:47:27.285396Z",
     "shell.execute_reply": "2024-05-28T08:47:27.284143Z",
     "shell.execute_reply.started": "2024-05-28T08:47:27.27882Z"
    },
    "trusted": true
   },
   "outputs": [],
   "source": [
    "def getpolarity(text): \n",
    "    return TextBlob(text).sentiment.polarity \n",
    "\n",
    "def getsubjectivity(text): \n",
    "    return TextBlob(text).sentiment.subjectivity \n",
    "\n",
    "def getAnalysis(score): \n",
    "    if score < 0: \n",
    "        return 'negative'\n",
    "    elif score == 0: \n",
    "        return 'neutral'\n",
    "    else: \n",
    "        return 'positive'\n"
   ]
  },
  {
   "cell_type": "markdown",
   "metadata": {},
   "source": [
    "**Donald Trump tweet sentiment analysis**\n",
    "\n",
    "Note: We are considering the data of only, the United States of America because that will be a major factor in predicting the results."
   ]
  },
  {
   "cell_type": "code",
   "execution_count": 21,
   "metadata": {
    "execution": {
     "iopub.execute_input": "2024-05-28T08:47:29.865979Z",
     "iopub.status.busy": "2024-05-28T08:47:29.865604Z",
     "iopub.status.idle": "2024-05-28T08:47:30.103248Z",
     "shell.execute_reply": "2024-05-28T08:47:30.102186Z",
     "shell.execute_reply.started": "2024-05-28T08:47:29.865951Z"
    },
    "trusted": true
   },
   "outputs": [
    {
     "name": "stdout",
     "output_type": "stream",
     "text": [
      "                                                tweet\n",
      "2   #Trump: As a student I used to hear for years,...\n",
      "4   You get a tie! And you get a tie! #Trump ‘s ra...\n",
      "11  In 2020, #NYPost is being #censorship #CENSORE...\n",
      "12  #Trump #PresidentTrump #Trump2020LandslideVict...\n",
      "22  #Trump: Nobody likes to tell you this, but som...\n"
     ]
    }
   ],
   "source": [
    "trump_tweets = data[data['candidate'] == 'trump'] \n",
    "\n",
    "# taking only U.S. country data \n",
    "trump_tweets = trump_tweets.loc[trump_tweets.country == 'US'] \n",
    "trump_tweets = trump_tweets[['tweet']] \n",
    "print(trump_tweets.head()) \n"
   ]
  },
  {
   "cell_type": "markdown",
   "metadata": {},
   "source": [
    "**Now, we apply the clean function to get cleaned text from tweets.**"
   ]
  },
  {
   "cell_type": "code",
   "execution_count": 22,
   "metadata": {
    "execution": {
     "iopub.execute_input": "2024-05-28T08:47:32.941645Z",
     "iopub.status.busy": "2024-05-28T08:47:32.940522Z",
     "iopub.status.idle": "2024-05-28T08:53:19.262409Z",
     "shell.execute_reply": "2024-05-28T08:53:19.261264Z",
     "shell.execute_reply.started": "2024-05-28T08:47:32.941599Z"
    },
    "trusted": true
   },
   "outputs": [
    {
     "name": "stdout",
     "output_type": "stream",
     "text": [
      "                                                tweet  \\\n",
      "2   #Trump: As a student I used to hear for years,...   \n",
      "4   You get a tie! And you get a tie! #Trump ‘s ra...   \n",
      "11  In 2020, #NYPost is being #censorship #CENSORE...   \n",
      "12  #Trump #PresidentTrump #Trump2020LandslideVict...   \n",
      "22  #Trump: Nobody likes to tell you this, but som...   \n",
      "\n",
      "                                            cleantext  \n",
      "2   trump student used hear year ten year heard ch...  \n",
      "4                    get tie get tie trump rally iowa  \n",
      "11  nypost censorship censored twitter manipulate ...  \n",
      "12  trump presidenttrump trump landslidevictory tr...  \n",
      "22  trump nobody like tell farmer better way worki...  \n"
     ]
    }
   ],
   "source": [
    "trump_tweets['cleantext'] = trump_tweets['tweet'].apply(clean) \n",
    "print(trump_tweets.head()) \n"
   ]
  },
  {
   "cell_type": "markdown",
   "metadata": {},
   "source": [
    "**Subjectivity**\n",
    "To know if the sentence is subjective or objective. Subjective means sentence refers to a personal opinion and not facts whereas objective means facts\n",
    "\n",
    "Now, obtaining subjectivity for Trump’s tweets.\n",
    "\n"
   ]
  },
  {
   "cell_type": "code",
   "execution_count": 23,
   "metadata": {
    "execution": {
     "iopub.execute_input": "2024-05-28T08:53:33.043245Z",
     "iopub.status.busy": "2024-05-28T08:53:33.042236Z",
     "iopub.status.idle": "2024-05-28T08:53:57.340929Z",
     "shell.execute_reply": "2024-05-28T08:53:57.340071Z",
     "shell.execute_reply.started": "2024-05-28T08:53:33.043199Z"
    },
    "trusted": true
   },
   "outputs": [],
   "source": [
    "trump_tweets['subjectivity'] = trump_tweets['cleantext'].apply(getsubjectivity) \n"
   ]
  },
  {
   "cell_type": "markdown",
   "metadata": {},
   "source": [
    "**Polarity**\n",
    "\n",
    "It is represented by a float value that lies between -1 and 1, where 1 = positive sentiment, -1 = negative sentiment\n",
    "\n",
    "Getting the polarity of the data now."
   ]
  },
  {
   "cell_type": "code",
   "execution_count": 24,
   "metadata": {
    "execution": {
     "iopub.execute_input": "2024-05-28T08:54:08.408997Z",
     "iopub.status.busy": "2024-05-28T08:54:08.408604Z",
     "iopub.status.idle": "2024-05-28T08:54:31.713086Z",
     "shell.execute_reply": "2024-05-28T08:54:31.712218Z",
     "shell.execute_reply.started": "2024-05-28T08:54:08.408967Z"
    },
    "trusted": true
   },
   "outputs": [],
   "source": [
    "trump_tweets['polarity'] = trump_tweets['cleantext'].apply(getpolarity) \n"
   ]
  },
  {
   "cell_type": "markdown",
   "metadata": {},
   "source": [
    "**Sentiments**\n",
    "\n",
    "Now, classifying the sentiments as positive, negative or neutral."
   ]
  },
  {
   "cell_type": "code",
   "execution_count": 25,
   "metadata": {
    "execution": {
     "iopub.execute_input": "2024-05-28T08:54:48.347918Z",
     "iopub.status.busy": "2024-05-28T08:54:48.347489Z",
     "iopub.status.idle": "2024-05-28T08:54:48.423337Z",
     "shell.execute_reply": "2024-05-28T08:54:48.422089Z",
     "shell.execute_reply.started": "2024-05-28T08:54:48.347886Z"
    },
    "trusted": true
   },
   "outputs": [
    {
     "data": {
      "text/html": [
       "<div>\n",
       "<style scoped>\n",
       "    .dataframe tbody tr th:only-of-type {\n",
       "        vertical-align: middle;\n",
       "    }\n",
       "\n",
       "    .dataframe tbody tr th {\n",
       "        vertical-align: top;\n",
       "    }\n",
       "\n",
       "    .dataframe thead th {\n",
       "        text-align: right;\n",
       "    }\n",
       "</style>\n",
       "<table border=\"1\" class=\"dataframe\">\n",
       "  <thead>\n",
       "    <tr style=\"text-align: right;\">\n",
       "      <th></th>\n",
       "      <th>tweet</th>\n",
       "      <th>cleantext</th>\n",
       "      <th>subjectivity</th>\n",
       "      <th>polarity</th>\n",
       "      <th>analysis</th>\n",
       "    </tr>\n",
       "  </thead>\n",
       "  <tbody>\n",
       "    <tr>\n",
       "      <th>2</th>\n",
       "      <td>#Trump: As a student I used to hear for years,...</td>\n",
       "      <td>trump student used hear year ten year heard ch...</td>\n",
       "      <td>0.333333</td>\n",
       "      <td>0.333333</td>\n",
       "      <td>positive</td>\n",
       "    </tr>\n",
       "    <tr>\n",
       "      <th>4</th>\n",
       "      <td>You get a tie! And you get a tie! #Trump ‘s ra...</td>\n",
       "      <td>get tie get tie trump rally iowa</td>\n",
       "      <td>0.000000</td>\n",
       "      <td>0.000000</td>\n",
       "      <td>neutral</td>\n",
       "    </tr>\n",
       "    <tr>\n",
       "      <th>11</th>\n",
       "      <td>In 2020, #NYPost is being #censorship #CENSORE...</td>\n",
       "      <td>nypost censorship censored twitter manipulate ...</td>\n",
       "      <td>0.678571</td>\n",
       "      <td>-0.148810</td>\n",
       "      <td>negative</td>\n",
       "    </tr>\n",
       "    <tr>\n",
       "      <th>12</th>\n",
       "      <td>#Trump #PresidentTrump #Trump2020LandslideVict...</td>\n",
       "      <td>trump presidenttrump trump landslidevictory tr...</td>\n",
       "      <td>0.750000</td>\n",
       "      <td>0.500000</td>\n",
       "      <td>positive</td>\n",
       "    </tr>\n",
       "    <tr>\n",
       "      <th>22</th>\n",
       "      <td>#Trump: Nobody likes to tell you this, but som...</td>\n",
       "      <td>trump nobody like tell farmer better way worki...</td>\n",
       "      <td>0.595238</td>\n",
       "      <td>0.261905</td>\n",
       "      <td>positive</td>\n",
       "    </tr>\n",
       "  </tbody>\n",
       "</table>\n",
       "</div>"
      ],
      "text/plain": [
       "                                                tweet  \\\n",
       "2   #Trump: As a student I used to hear for years,...   \n",
       "4   You get a tie! And you get a tie! #Trump ‘s ra...   \n",
       "11  In 2020, #NYPost is being #censorship #CENSORE...   \n",
       "12  #Trump #PresidentTrump #Trump2020LandslideVict...   \n",
       "22  #Trump: Nobody likes to tell you this, but som...   \n",
       "\n",
       "                                            cleantext  subjectivity  polarity  \\\n",
       "2   trump student used hear year ten year heard ch...      0.333333  0.333333   \n",
       "4                    get tie get tie trump rally iowa      0.000000  0.000000   \n",
       "11  nypost censorship censored twitter manipulate ...      0.678571 -0.148810   \n",
       "12  trump presidenttrump trump landslidevictory tr...      0.750000  0.500000   \n",
       "22  trump nobody like tell farmer better way worki...      0.595238  0.261905   \n",
       "\n",
       "    analysis  \n",
       "2   positive  \n",
       "4    neutral  \n",
       "11  negative  \n",
       "12  positive  \n",
       "22  positive  "
      ]
     },
     "execution_count": 25,
     "metadata": {},
     "output_type": "execute_result"
    }
   ],
   "source": [
    "trump_tweets['analysis'] = trump_tweets['polarity'].apply(getAnalysis) \n",
    "trump_tweets.head() \n"
   ]
  },
  {
   "cell_type": "markdown",
   "metadata": {},
   "source": [
    "Let’s see the distribution of positive, negative and neutral sentiments."
   ]
  },
  {
   "cell_type": "code",
   "execution_count": 26,
   "metadata": {
    "execution": {
     "iopub.execute_input": "2024-05-28T08:54:51.120187Z",
     "iopub.status.busy": "2024-05-28T08:54:51.119285Z",
     "iopub.status.idle": "2024-05-28T08:54:51.520284Z",
     "shell.execute_reply": "2024-05-28T08:54:51.519275Z",
     "shell.execute_reply.started": "2024-05-28T08:54:51.120154Z"
    },
    "trusted": true
   },
   "outputs": [
    {
     "data": {
      "image/png": "[encoded data removed]",
      "text/plain": [
       "<Figure size 700x500 with 1 Axes>"
      ]
     },
     "metadata": {},
     "output_type": "display_data"
    }
   ],
   "source": [
    "# how much data is positive/negetive/neutral \n",
    "plt.style.use('dark_background') # Adding black theme \n",
    "\n",
    "# Define colors for each bar \n",
    "colors = ['orange', 'blue', 'red'] \n",
    "\n",
    "plt.figure(figsize=(7, 5)) \n",
    "(trump_tweets.analysis.value_counts(normalize=True) * 100).plot.bar(color=colors) \n",
    "plt.ylabel(\"%age of tweets\") \n",
    "plt.title(\"Distribution of Sentiments towards Trump\") \n",
    "plt.show() \n"
   ]
  },
  {
   "cell_type": "markdown",
   "metadata": {},
   "source": [
    "Now, plotting Word Cloud to quickly identify the most important themes or topics in the text and understand the overall sentiment or tone of the tweets."
   ]
  },
  {
   "cell_type": "code",
   "execution_count": 27,
   "metadata": {
    "execution": {
     "iopub.execute_input": "2024-05-28T08:54:57.13948Z",
     "iopub.status.busy": "2024-05-28T08:54:57.138586Z",
     "iopub.status.idle": "2024-05-28T08:54:57.143828Z",
     "shell.execute_reply": "2024-05-28T08:54:57.142724Z",
     "shell.execute_reply.started": "2024-05-28T08:54:57.139442Z"
    },
    "trusted": true
   },
   "outputs": [],
   "source": [
    "from wordcloud import WordCloud, STOPWORDS, ImageColorGenerator"
   ]
  },
  {
   "cell_type": "code",
   "execution_count": 28,
   "metadata": {
    "execution": {
     "iopub.execute_input": "2024-05-28T08:54:58.873006Z",
     "iopub.status.busy": "2024-05-28T08:54:58.872261Z",
     "iopub.status.idle": "2024-05-28T08:55:01.574719Z",
     "shell.execute_reply": "2024-05-28T08:55:01.573794Z",
     "shell.execute_reply.started": "2024-05-28T08:54:58.87297Z"
    },
    "trusted": true
   },
   "outputs": [
    {
     "data": {
      "image/png": "[encoded data removed]",
      "text/plain": [
       "<Figure size 1200x1000 with 1 Axes>"
      ]
     },
     "metadata": {},
     "output_type": "display_data"
    }
   ],
   "source": [
    "def word_cloud(wd_list): \n",
    "\tstopwords = set(STOPWORDS) \n",
    "\tall_words = ' '.join([text for text in wd_list]) \n",
    "\twordcloud = WordCloud(background_color='black', \n",
    "\t\t\t\t\t\tstopwords=stopwords, \n",
    "\t\t\t\t\t\twidth=1600, height=800, max_words=100, max_font_size=200, \n",
    "\t\t\t\t\t\tcolormap=\"viridis\").generate(all_words) \n",
    "\tplt.figure(figsize=(12, 10)) \n",
    "\tplt.axis('off') \n",
    "\tplt.imshow(wordcloud) \n",
    "\n",
    "word_cloud(trump_tweets['cleantext'][:5000]) \n"
   ]
  },
  {
   "cell_type": "markdown",
   "metadata": {},
   "source": [
    "**Joe Biden’s Twitter sentiment analysis**"
   ]
  },
  {
   "cell_type": "code",
   "execution_count": 29,
   "metadata": {
    "execution": {
     "iopub.execute_input": "2024-05-28T08:55:06.255945Z",
     "iopub.status.busy": "2024-05-28T08:55:06.255548Z",
     "iopub.status.idle": "2024-05-28T08:55:06.474444Z",
     "shell.execute_reply": "2024-05-28T08:55:06.473358Z",
     "shell.execute_reply.started": "2024-05-28T08:55:06.255913Z"
    },
    "trusted": true
   },
   "outputs": [
    {
     "data": {
      "text/html": [
       "<div>\n",
       "<style scoped>\n",
       "    .dataframe tbody tr th:only-of-type {\n",
       "        vertical-align: middle;\n",
       "    }\n",
       "\n",
       "    .dataframe tbody tr th {\n",
       "        vertical-align: top;\n",
       "    }\n",
       "\n",
       "    .dataframe thead th {\n",
       "        text-align: right;\n",
       "    }\n",
       "</style>\n",
       "<table border=\"1\" class=\"dataframe\">\n",
       "  <thead>\n",
       "    <tr style=\"text-align: right;\">\n",
       "      <th></th>\n",
       "      <th>tweet</th>\n",
       "    </tr>\n",
       "  </thead>\n",
       "  <tbody>\n",
       "    <tr>\n",
       "      <th>6</th>\n",
       "      <td>In 2020, #NYPost is being #censorship #CENSORE...</td>\n",
       "    </tr>\n",
       "    <tr>\n",
       "      <th>17</th>\n",
       "      <td>Comments on this? \"Do Democrats Understand how...</td>\n",
       "    </tr>\n",
       "    <tr>\n",
       "      <th>25</th>\n",
       "      <td>@RealJamesWoods #BidenCrimeFamily #JoeBiden #H...</td>\n",
       "    </tr>\n",
       "    <tr>\n",
       "      <th>29</th>\n",
       "      <td>Come on @ABC PLEASE DO THE RIGHT THING. Move t...</td>\n",
       "    </tr>\n",
       "    <tr>\n",
       "      <th>34</th>\n",
       "      <td>#realDonaldTrump addresses #JoeBiden and #Hunt...</td>\n",
       "    </tr>\n",
       "    <tr>\n",
       "      <th>...</th>\n",
       "      <td>...</td>\n",
       "    </tr>\n",
       "    <tr>\n",
       "      <th>776836</th>\n",
       "      <td>#Biden 🗽🇺🇸👍🏽 | Images 📷 @ Santa Maria, CA.  | ...</td>\n",
       "    </tr>\n",
       "    <tr>\n",
       "      <th>776845</th>\n",
       "      <td>Will #criticalRaceTheory become ubiquitous in ...</td>\n",
       "    </tr>\n",
       "    <tr>\n",
       "      <th>776847</th>\n",
       "      <td>You moving near #Biden 🤔 https://t.co/1F6i1YIJ2P</td>\n",
       "    </tr>\n",
       "    <tr>\n",
       "      <th>776861</th>\n",
       "      <td>#election #2020Elections #trump #biden https:/...</td>\n",
       "    </tr>\n",
       "    <tr>\n",
       "      <th>776865</th>\n",
       "      <td>@FLOTUS I’m excited to have a FLOTUS whose vag...</td>\n",
       "    </tr>\n",
       "  </tbody>\n",
       "</table>\n",
       "<p>85760 rows × 1 columns</p>\n",
       "</div>"
      ],
      "text/plain": [
       "                                                    tweet\n",
       "6       In 2020, #NYPost is being #censorship #CENSORE...\n",
       "17      Comments on this? \"Do Democrats Understand how...\n",
       "25      @RealJamesWoods #BidenCrimeFamily #JoeBiden #H...\n",
       "29      Come on @ABC PLEASE DO THE RIGHT THING. Move t...\n",
       "34      #realDonaldTrump addresses #JoeBiden and #Hunt...\n",
       "...                                                   ...\n",
       "776836  #Biden 🗽🇺🇸👍🏽 | Images 📷 @ Santa Maria, CA.  | ...\n",
       "776845  Will #criticalRaceTheory become ubiquitous in ...\n",
       "776847   You moving near #Biden 🤔 https://t.co/1F6i1YIJ2P\n",
       "776861  #election #2020Elections #trump #biden https:/...\n",
       "776865  @FLOTUS I’m excited to have a FLOTUS whose vag...\n",
       "\n",
       "[85760 rows x 1 columns]"
      ]
     },
     "execution_count": 29,
     "metadata": {},
     "output_type": "execute_result"
    }
   ],
   "source": [
    "biden_tweets = data[data['candidate'] == 'biden'] \n",
    "biden_tweets = biden_tweets.loc[biden_tweets.country == 'US'] \n",
    "biden_tweets = biden_tweets[['tweet']] \n",
    "biden_tweets\n"
   ]
  },
  {
   "cell_type": "code",
   "execution_count": 30,
   "metadata": {
    "execution": {
     "iopub.execute_input": "2024-05-28T08:55:10.286906Z",
     "iopub.status.busy": "2024-05-28T08:55:10.285939Z",
     "iopub.status.idle": "2024-05-28T09:00:00.655733Z",
     "shell.execute_reply": "2024-05-28T09:00:00.654705Z",
     "shell.execute_reply.started": "2024-05-28T08:55:10.286865Z"
    },
    "trusted": true
   },
   "outputs": [
    {
     "data": {
      "text/html": [
       "<div>\n",
       "<style scoped>\n",
       "    .dataframe tbody tr th:only-of-type {\n",
       "        vertical-align: middle;\n",
       "    }\n",
       "\n",
       "    .dataframe tbody tr th {\n",
       "        vertical-align: top;\n",
       "    }\n",
       "\n",
       "    .dataframe thead th {\n",
       "        text-align: right;\n",
       "    }\n",
       "</style>\n",
       "<table border=\"1\" class=\"dataframe\">\n",
       "  <thead>\n",
       "    <tr style=\"text-align: right;\">\n",
       "      <th></th>\n",
       "      <th>tweet</th>\n",
       "      <th>cleantext</th>\n",
       "    </tr>\n",
       "  </thead>\n",
       "  <tbody>\n",
       "    <tr>\n",
       "      <th>6</th>\n",
       "      <td>In 2020, #NYPost is being #censorship #CENSORE...</td>\n",
       "      <td>nypost censorship censored twitter manipulate ...</td>\n",
       "    </tr>\n",
       "    <tr>\n",
       "      <th>17</th>\n",
       "      <td>Comments on this? \"Do Democrats Understand how...</td>\n",
       "      <td>comment democrat understand ruthless china chi...</td>\n",
       "    </tr>\n",
       "    <tr>\n",
       "      <th>25</th>\n",
       "      <td>@RealJamesWoods #BidenCrimeFamily #JoeBiden #H...</td>\n",
       "      <td>realjameswoods bidencrimefamily joebiden hunte...</td>\n",
       "    </tr>\n",
       "    <tr>\n",
       "      <th>29</th>\n",
       "      <td>Come on @ABC PLEASE DO THE RIGHT THING. Move t...</td>\n",
       "      <td>come abc please right thing move biden town ha...</td>\n",
       "    </tr>\n",
       "    <tr>\n",
       "      <th>34</th>\n",
       "      <td>#realDonaldTrump addresses #JoeBiden and #Hunt...</td>\n",
       "      <td>realdonaldtrump address joebiden hunterbiden c...</td>\n",
       "    </tr>\n",
       "  </tbody>\n",
       "</table>\n",
       "</div>"
      ],
      "text/plain": [
       "                                                tweet  \\\n",
       "6   In 2020, #NYPost is being #censorship #CENSORE...   \n",
       "17  Comments on this? \"Do Democrats Understand how...   \n",
       "25  @RealJamesWoods #BidenCrimeFamily #JoeBiden #H...   \n",
       "29  Come on @ABC PLEASE DO THE RIGHT THING. Move t...   \n",
       "34  #realDonaldTrump addresses #JoeBiden and #Hunt...   \n",
       "\n",
       "                                            cleantext  \n",
       "6   nypost censorship censored twitter manipulate ...  \n",
       "17  comment democrat understand ruthless china chi...  \n",
       "25  realjameswoods bidencrimefamily joebiden hunte...  \n",
       "29  come abc please right thing move biden town ha...  \n",
       "34  realdonaldtrump address joebiden hunterbiden c...  "
      ]
     },
     "execution_count": 30,
     "metadata": {},
     "output_type": "execute_result"
    }
   ],
   "source": [
    "biden_tweets['cleantext']=biden_tweets['tweet'].apply(clean) \n",
    "biden_tweets.head()\n"
   ]
  },
  {
   "cell_type": "code",
   "execution_count": 31,
   "metadata": {
    "execution": {
     "iopub.execute_input": "2024-05-28T09:00:11.659198Z",
     "iopub.status.busy": "2024-05-28T09:00:11.658803Z",
     "iopub.status.idle": "2024-05-28T09:00:53.69241Z",
     "shell.execute_reply": "2024-05-28T09:00:53.691456Z",
     "shell.execute_reply.started": "2024-05-28T09:00:11.659167Z"
    },
    "trusted": true
   },
   "outputs": [
    {
     "data": {
      "text/html": [
       "<div>\n",
       "<style scoped>\n",
       "    .dataframe tbody tr th:only-of-type {\n",
       "        vertical-align: middle;\n",
       "    }\n",
       "\n",
       "    .dataframe tbody tr th {\n",
       "        vertical-align: top;\n",
       "    }\n",
       "\n",
       "    .dataframe thead th {\n",
       "        text-align: right;\n",
       "    }\n",
       "</style>\n",
       "<table border=\"1\" class=\"dataframe\">\n",
       "  <thead>\n",
       "    <tr style=\"text-align: right;\">\n",
       "      <th></th>\n",
       "      <th>tweet</th>\n",
       "      <th>cleantext</th>\n",
       "      <th>subjectivity</th>\n",
       "      <th>polarity</th>\n",
       "      <th>analysis</th>\n",
       "    </tr>\n",
       "  </thead>\n",
       "  <tbody>\n",
       "    <tr>\n",
       "      <th>6</th>\n",
       "      <td>In 2020, #NYPost is being #censorship #CENSORE...</td>\n",
       "      <td>nypost censorship censored twitter manipulate ...</td>\n",
       "      <td>0.678571</td>\n",
       "      <td>-0.148810</td>\n",
       "      <td>negative</td>\n",
       "    </tr>\n",
       "    <tr>\n",
       "      <th>17</th>\n",
       "      <td>Comments on this? \"Do Democrats Understand how...</td>\n",
       "      <td>comment democrat understand ruthless china chi...</td>\n",
       "      <td>1.000000</td>\n",
       "      <td>-1.000000</td>\n",
       "      <td>negative</td>\n",
       "    </tr>\n",
       "    <tr>\n",
       "      <th>25</th>\n",
       "      <td>@RealJamesWoods #BidenCrimeFamily #JoeBiden #H...</td>\n",
       "      <td>realjameswoods bidencrimefamily joebiden hunte...</td>\n",
       "      <td>0.000000</td>\n",
       "      <td>0.000000</td>\n",
       "      <td>neutral</td>\n",
       "    </tr>\n",
       "    <tr>\n",
       "      <th>29</th>\n",
       "      <td>Come on @ABC PLEASE DO THE RIGHT THING. Move t...</td>\n",
       "      <td>come abc please right thing move biden town ha...</td>\n",
       "      <td>0.178571</td>\n",
       "      <td>0.078571</td>\n",
       "      <td>positive</td>\n",
       "    </tr>\n",
       "    <tr>\n",
       "      <th>34</th>\n",
       "      <td>#realDonaldTrump addresses #JoeBiden and #Hunt...</td>\n",
       "      <td>realdonaldtrump address joebiden hunterbiden c...</td>\n",
       "      <td>0.000000</td>\n",
       "      <td>0.000000</td>\n",
       "      <td>neutral</td>\n",
       "    </tr>\n",
       "  </tbody>\n",
       "</table>\n",
       "</div>"
      ],
      "text/plain": [
       "                                                tweet  \\\n",
       "6   In 2020, #NYPost is being #censorship #CENSORE...   \n",
       "17  Comments on this? \"Do Democrats Understand how...   \n",
       "25  @RealJamesWoods #BidenCrimeFamily #JoeBiden #H...   \n",
       "29  Come on @ABC PLEASE DO THE RIGHT THING. Move t...   \n",
       "34  #realDonaldTrump addresses #JoeBiden and #Hunt...   \n",
       "\n",
       "                                            cleantext  subjectivity  polarity  \\\n",
       "6   nypost censorship censored twitter manipulate ...      0.678571 -0.148810   \n",
       "17  comment democrat understand ruthless china chi...      1.000000 -1.000000   \n",
       "25  realjameswoods bidencrimefamily joebiden hunte...      0.000000  0.000000   \n",
       "29  come abc please right thing move biden town ha...      0.178571  0.078571   \n",
       "34  realdonaldtrump address joebiden hunterbiden c...      0.000000  0.000000   \n",
       "\n",
       "    analysis  \n",
       "6   negative  \n",
       "17  negative  \n",
       "25   neutral  \n",
       "29  positive  \n",
       "34   neutral  "
      ]
     },
     "execution_count": 31,
     "metadata": {},
     "output_type": "execute_result"
    }
   ],
   "source": [
    "biden_tweets['subjectivity'] = biden_tweets['cleantext'].apply(getsubjectivity) \n",
    "biden_tweets['polarity'] = biden_tweets['cleantext'].apply(getpolarity) \n",
    "biden_tweets['analysis'] = biden_tweets['polarity'].apply(getAnalysis) \n",
    "biden_tweets.head() \n"
   ]
  },
  {
   "cell_type": "markdown",
   "metadata": {},
   "source": [
    "Now, we find out the distribution of sentiments in the dataset to know which sentiment holds the most values and how it will affect the election results."
   ]
  },
  {
   "cell_type": "code",
   "execution_count": 32,
   "metadata": {
    "execution": {
     "iopub.execute_input": "2024-05-28T09:00:56.699852Z",
     "iopub.status.busy": "2024-05-28T09:00:56.698877Z",
     "iopub.status.idle": "2024-05-28T09:00:56.987885Z",
     "shell.execute_reply": "2024-05-28T09:00:56.986764Z",
     "shell.execute_reply.started": "2024-05-28T09:00:56.699817Z"
    },
    "trusted": true
   },
   "outputs": [
    {
     "data": {
      "image/png": "[encoded data removed]",
      "text/plain": [
       "<Figure size 700x500 with 1 Axes>"
      ]
     },
     "metadata": {},
     "output_type": "display_data"
    }
   ],
   "source": [
    "# how much data is positive/negetive/neutral \n",
    "plt.style.use('dark_background') \n",
    "\n",
    "# Define colors for each bar \n",
    "colors = ['orange', 'green', 'red'] \n",
    "\n",
    "plt.figure(figsize=(7, 5)) \n",
    "(biden_tweets.analysis.value_counts(normalize=True) * 100).plot.bar(color=colors) \n",
    "plt.ylabel(\"%age of tweets\") \n",
    "plt.title(\"Distribution of Sentiments towards Biden\") \n",
    "plt.show() \n"
   ]
  },
  {
   "cell_type": "markdown",
   "metadata": {},
   "source": [
    "Now, plotting the Word Cloud for the Joe Biden dataset."
   ]
  },
  {
   "cell_type": "code",
   "execution_count": 33,
   "metadata": {
    "execution": {
     "iopub.execute_input": "2024-05-28T09:01:00.907551Z",
     "iopub.status.busy": "2024-05-28T09:01:00.906545Z",
     "iopub.status.idle": "2024-05-28T09:01:03.456934Z",
     "shell.execute_reply": "2024-05-28T09:01:03.455941Z",
     "shell.execute_reply.started": "2024-05-28T09:01:00.907492Z"
    },
    "trusted": true
   },
   "outputs": [
    {
     "data": {
      "image/png": "[encoded data removed]",
      "text/plain": [
       "<Figure size 1200x1000 with 1 Axes>"
      ]
     },
     "metadata": {},
     "output_type": "display_data"
    }
   ],
   "source": [
    "word_cloud(biden_tweets['cleantext'][:5000])\n"
   ]
  },
  {
   "cell_type": "markdown",
   "metadata": {},
   "source": [
    "let us now analyze the sentiments to predict the results for Donald Trump"
   ]
  },
  {
   "cell_type": "code",
   "execution_count": 34,
   "metadata": {
    "execution": {
     "iopub.execute_input": "2024-05-28T09:01:07.541543Z",
     "iopub.status.busy": "2024-05-28T09:01:07.540802Z",
     "iopub.status.idle": "2024-05-28T09:01:07.5646Z",
     "shell.execute_reply": "2024-05-28T09:01:07.563398Z",
     "shell.execute_reply.started": "2024-05-28T09:01:07.541508Z"
    },
    "trusted": true
   },
   "outputs": [
    {
     "data": {
      "text/plain": [
       "analysis\n",
       "neutral     43.995156\n",
       "positive    33.566890\n",
       "negative    22.437954\n",
       "Name: proportion, dtype: float64"
      ]
     },
     "execution_count": 34,
     "metadata": {},
     "output_type": "execute_result"
    }
   ],
   "source": [
    "trump_tweets.analysis.value_counts(normalize=True)*100"
   ]
  },
  {
   "cell_type": "markdown",
   "metadata": {},
   "source": [
    "Now, analyze tweets for Joe Biden"
   ]
  },
  {
   "cell_type": "code",
   "execution_count": 35,
   "metadata": {
    "execution": {
     "iopub.execute_input": "2024-05-28T09:01:10.780722Z",
     "iopub.status.busy": "2024-05-28T09:01:10.780031Z",
     "iopub.status.idle": "2024-05-28T09:01:10.802235Z",
     "shell.execute_reply": "2024-05-28T09:01:10.800923Z",
     "shell.execute_reply.started": "2024-05-28T09:01:10.780689Z"
    },
    "trusted": true
   },
   "outputs": [
    {
     "data": {
      "text/plain": [
       "analysis\n",
       "neutral     46.831856\n",
       "positive    37.880131\n",
       "negative    15.288013\n",
       "Name: proportion, dtype: float64"
      ]
     },
     "execution_count": 35,
     "metadata": {},
     "output_type": "execute_result"
    }
   ],
   "source": [
    "biden_tweets.analysis.value_counts(normalize=True)*100\n"
   ]
  },
  {
   "cell_type": "markdown",
   "metadata": {},
   "source": [
    "**Conclusion:**\n",
    "let’s analyze what each sentiment’s percentage represents and its implications on the result.\n",
    "\n",
    "**Positive Sentiment:** Positive tweets about Biden outnumber positive tweets about Trump: Biden’s tweets have a higher percentage of positive feelings (37.93%) than Trump’s ( 33.62%). This shows that Twitter users are responding more favorably to Biden.\n",
    "\n",
    "**Neutral Sentiment:** Trump receives more neutral sentiments: In contrast, Trump receives slightly more neutral sentiments (44.15%) in comparison to Biden (46.95%) in his tweets. This may indicate that Trump’s tweets are more likely to be seen as neutral or impersonal, leading to a higher neutral sentiment rate.\n",
    "\n",
    "**Negative Sentiment:** Trump gets more unfavorable reactions: While both candidates have received criticism, Trump’s tweets have a greater percentage of unfavorable reactions ( 22.21%) than Biden’s (15.11%). This implies that there may have been more opposition to Trump’s tweets on Twitter.\n",
    "\n",
    "With respect to the U.S. voters, it was highlighted a lot of times that Trump was the most talked about and tweeted about among people however, Trump has received more negative comments as compared to Joe Biden. As a result, Joe Biden won the 2020 elections which is a proven fact. However, overall, the competition was close as shown by the data.\n",
    "\n"
   ]
  },
  {
   "cell_type": "code",
   "execution_count": null,
   "metadata": {},
   "outputs": [
    {
     "name": "stderr",
     "output_type": "stream",
     "text": [
      "[nltk_data] Downloading package punkt to\n",
      "[nltk_data]     C:\\Users\\malle\\AppData\\Roaming\\nltk_data...\n"
     ]
    },
    {
     "name": "stdout",
     "output_type": "stream",
     "text": [
      "Sentiment analyzer saved successfully!\n"
     ]
    },
    {
     "name": "stderr",
     "output_type": "stream",
     "text": [
      "[nltk_data]   Unzipping tokenizers\\punkt.zip.\n",
      "[nltk_data] Downloading package stopwords to\n",
      "[nltk_data]     C:\\Users\\malle\\AppData\\Roaming\\nltk_data...\n",
      "[nltk_data]   Package stopwords is already up-to-date!\n",
      "[nltk_data] Downloading package wordnet to\n",
      "[nltk_data]     C:\\Users\\malle\\AppData\\Roaming\\nltk_data...\n",
      "[nltk_data]   Package wordnet is already up-to-date!\n"
     ]
    }
   ],
   "source": [
    "# Import pickle for saving the model\n",
    "import pickle\n",
    "\n",
    "import nltk\n",
    "nltk.download('punkt')\n",
    "nltk.download('stopwords')\n",
    "nltk.download('wordnet')\n",
    "\n",
    "# Create a dictionary of my functions and any necessary data\n",
    "# Using the exact function names from my notebook\n",
    "sentiment_analyzer = {\n",
    "    'clean': clean,  #Existing clean function\n",
    "    'getpolarity': getpolarity,  #Existing polarity function\n",
    "    'getAnalysis': getAnalysis  #Existing sentiment analysis function\n",
    "}\n",
    "\n",
    "# Save to a file\n",
    "with open('sentiment_analyzer.pkl', 'wb') as f:\n",
    "    pickle.dump(sentiment_analyzer, f)\n",
    "\n",
    "print(\"Sentiment analyzer saved successfully!\")"
   ]
  }
 ],
 "metadata": {
  "kaggle": {
   "accelerator": "nvidiaTeslaT4",
   "dataSources": [
    {
     "datasetId": 935914,
     "sourceId": 1632066,
     "sourceType": "datasetVersion"
    }
   ],
   "dockerImageVersionId": 30698,
   "isGpuEnabled": true,
   "isInternetEnabled": false,
   "language": "python",
   "sourceType": "notebook"
  },
  "kernelspec": {
   "display_name": "base",
   "language": "python",
   "name": "python3"
  },
  "language_info": {
   "codemirror_mode": {
    "name": "ipython",
    "version": 3
   },
   "file_extension": ".py",
   "mimetype": "text/x-python",
   "name": "python",
   "nbconvert_exporter": "python",
   "pygments_lexer": "ipython3",
   "version": "3.12.7"
  }
 },
 "nbformat": 4,
 "nbformat_minor": 4
}
